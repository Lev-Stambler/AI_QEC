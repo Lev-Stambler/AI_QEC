{
 "cells": [
  {
   "cell_type": "code",
   "execution_count": 1,
   "metadata": {},
   "outputs": [],
   "source": [
    "# !pip install livelossplot -q\n",
    "# !pip install bposd -q\n",
    "# !pip install json -q"
   ]
  },
  {
   "cell_type": "code",
   "execution_count": 1,
   "metadata": {},
   "outputs": [],
   "source": [
    "import os\n",
    "import sys\n",
    "sys.path.append(os.getcwd() + \"/src\")"
   ]
  },
  {
   "attachments": {},
   "cell_type": "markdown",
   "metadata": {},
   "source": [
    "## Benchmark random CPC codes"
   ]
  },
  {
   "cell_type": "code",
   "execution_count": 3,
   "metadata": {},
   "outputs": [
    {
     "ename": "KeyboardInterrupt",
     "evalue": "",
     "output_type": "error",
     "traceback": [
      "\u001b[0;31m---------------------------------------------------------------------------\u001b[0m",
      "\u001b[0;31mKeyboardInterrupt\u001b[0m                         Traceback (most recent call last)",
      "\u001b[1;32m/home/lev/code/research/ai/AI_QEC/Notebook_Baseline.ipynb Cell 4\u001b[0m in \u001b[0;36m1\n\u001b[1;32m     <a href='vscode-notebook-cell:/home/lev/code/research/ai/AI_QEC/Notebook_Baseline.ipynb#W3sZmlsZQ%3D%3D?line=13'>14</a>\u001b[0m \u001b[39mfor\u001b[39;00m _ \u001b[39min\u001b[39;00m \u001b[39mrange\u001b[39m(n_samples):\n\u001b[1;32m     <a href='vscode-notebook-cell:/home/lev/code/research/ai/AI_QEC/Notebook_Baseline.ipynb#W3sZmlsZQ%3D%3D?line=14'>15</a>\u001b[0m \tpc, _, _, _ \u001b[39m=\u001b[39m generate_random\u001b[39m.\u001b[39mrandom_cpc()\n\u001b[0;32m---> <a href='vscode-notebook-cell:/home/lev/code/research/ai/AI_QEC/Notebook_Baseline.ipynb#W3sZmlsZQ%3D%3D?line=15'>16</a>\u001b[0m \twsr \u001b[39m=\u001b[39m run_decoder(pc, np\u001b[39m.\u001b[39;49mones(pc\u001b[39m.\u001b[39;49mshape[\u001b[39m-\u001b[39;49m\u001b[39m1\u001b[39;49m]) \u001b[39m*\u001b[39;49m e)\n\u001b[1;32m     <a href='vscode-notebook-cell:/home/lev/code/research/ai/AI_QEC/Notebook_Baseline.ipynb#W3sZmlsZQ%3D%3D?line=16'>17</a>\u001b[0m \t\u001b[39mif\u001b[39;00m wsr \u001b[39m>\u001b[39m best_word_succ_rates[i]:\n\u001b[1;32m     <a href='vscode-notebook-cell:/home/lev/code/research/ai/AI_QEC/Notebook_Baseline.ipynb#W3sZmlsZQ%3D%3D?line=17'>18</a>\u001b[0m \t\tbest_word_succ_rates[i] \u001b[39m=\u001b[39m wsr\n",
      "File \u001b[0;32m~/code/research/ai/AI_QEC/src/scoring/score_dataset.py:71\u001b[0m, in \u001b[0;36mrun_decoder\u001b[0;34m(pc, p_fails, multiproc)\u001b[0m\n\u001b[1;32m     70\u001b[0m \u001b[39mdef\u001b[39;00m \u001b[39mrun_decoder\u001b[39m(pc, p_fails, multiproc\u001b[39m=\u001b[39m\u001b[39mFalse\u001b[39;00m):\n\u001b[0;32m---> 71\u001b[0m     \u001b[39mreturn\u001b[39;00m run_decoder_bp_osd(pc, p_fails, n_runs\u001b[39m=\u001b[39;49m\u001b[39m50_000\u001b[39;49m)\n\u001b[1;32m     72\u001b[0m     \u001b[39mreturn\u001b[39;00m aff3ct_simulate\u001b[39m.\u001b[39mget_wsr(pc, p_fails)\n\u001b[1;32m     73\u001b[0m     n \u001b[39m=\u001b[39m pc\u001b[39m.\u001b[39mshape[\u001b[39m1\u001b[39m]\n",
      "File \u001b[0;32m~/code/research/ai/AI_QEC/src/scoring/score_dataset.py:68\u001b[0m, in \u001b[0;36mrun_decoder_bp_osd\u001b[0;34m(pc, p_fails, n_runs)\u001b[0m\n\u001b[1;32m     66\u001b[0m n \u001b[39m=\u001b[39m pc\u001b[39m.\u001b[39mshape[\u001b[39m1\u001b[39m]\n\u001b[1;32m     67\u001b[0m rho \u001b[39m=\u001b[39m p_fails\n\u001b[0;32m---> 68\u001b[0m \u001b[39mreturn\u001b[39;00m bpods_get_wsr((n, rho, pc, n_runs))\n",
      "File \u001b[0;32m~/code/research/ai/AI_QEC/src/scoring/score_dataset.py:54\u001b[0m, in \u001b[0;36mbpods_get_wsr\u001b[0;34m(params, err_bar_cutoff)\u001b[0m\n\u001b[1;32m     52\u001b[0m p \u001b[39m=\u001b[39m s \u001b[39m/\u001b[39m n_runs\n\u001b[1;32m     53\u001b[0m q \u001b[39m=\u001b[39m \u001b[39m1\u001b[39m \u001b[39m-\u001b[39m p\n\u001b[0;32m---> 54\u001b[0m bp_frame_error_rate_eb \u001b[39m=\u001b[39m np\u001b[39m.\u001b[39;49msqrt(q\u001b[39m*\u001b[39;49mp\u001b[39m/\u001b[39;49mn_runs)\u001b[39m.\u001b[39mitem()\n\u001b[1;32m     55\u001b[0m \u001b[39m# print(bp_frame_error_rate_eb, p,err_bar_cutoff)\u001b[39;00m\n\u001b[1;32m     56\u001b[0m \u001b[39m# print(bp_frame_error_rate_eb, p, err_bar_cutoff)\u001b[39;00m\n\u001b[1;32m     57\u001b[0m \u001b[39mif\u001b[39;00m \u001b[39m1\u001b[39m \u001b[39m-\u001b[39m p \u001b[39m!=\u001b[39m \u001b[39m0\u001b[39m \u001b[39mand\u001b[39;00m bp_frame_error_rate_eb \u001b[39m/\u001b[39m (\u001b[39m1\u001b[39m\u001b[39m-\u001b[39mp) \u001b[39m<\u001b[39m err_bar_cutoff:\n",
      "\u001b[0;31mKeyboardInterrupt\u001b[0m: "
     ]
    }
   ],
   "source": [
    "from scoring.score_dataset import run_decoder\n",
    "import json\n",
    "from global_params import params\n",
    "from CPC import generate_random\n",
    "import numpy as np\n",
    "import utils\n",
    "\n",
    "error_rates = params['eval_p_range']\n",
    "n_samples = 100\n",
    "best_word_succ_rates = [0.0] * len(error_rates)\n",
    "best_pc = [[]] * len(error_rates)\n",
    "\n",
    "for i, e in enumerate(error_rates):\n",
    "\tfor _ in range(n_samples):\n",
    "\t\tpc, _, _, _ = generate_random.random_cpc()\n",
    "\t\twsr = run_decoder(pc, np.ones(pc.shape[-1]) * e)\n",
    "\t\tif wsr > best_word_succ_rates[i]:\n",
    "\t\t\tbest_word_succ_rates[i] = wsr\n",
    "\t\t\tbest_pc[i] = pc\n",
    "\n",
    "out_json = {'random_cpc': {}}\n",
    "for i, r in enumerate(best_word_succ_rates):\n",
    "\tout_json['random_cpc'][f\"error_rate_{error_rates[i]}\"] = r\n",
    "\tout_json['random_cpc'][f\"error_rate_{error_rates[i]}_pc\"] = best_pc[i]\n",
    "\n",
    "\n",
    "with open(utils.get_eval_baseline_path(), \"w\") as outfile:\n",
    "    print(\"WRITING\", out_json)\n",
    "    json.dump(out_json, outfile, cls=utils.NpEncoder)"
   ]
  },
  {
   "attachments": {},
   "cell_type": "markdown",
   "metadata": {},
   "source": [
    "## Benchmark AI learned codes"
   ]
  },
  {
   "cell_type": "code",
   "execution_count": 3,
   "metadata": {},
   "outputs": [
    {
     "name": "stdout",
     "output_type": "stream",
     "text": [
      "cpu\n",
      "Starting to evaluate performance for epoch 100 with file eval/results_bsc_iid_noise_(28,8).json\n"
     ]
    }
   ],
   "source": [
    "from training_qec import evaluate_performance\n",
    "from generating import generating_model as gen_model\n",
    "from scoring import score_model\n",
    "from global_params import params\n",
    "import utils\n",
    "import torch\n",
    "# TODO: use OSD for eval\n",
    "N_dec = 8  # Changed from 6\n",
    "h = 12  # changed from 8\n",
    "d_model = 60\n",
    "\n",
    "device = torch.device(\"cuda\" if torch.cuda.is_available() else \"cpu\")\n",
    "print(device)\n",
    "\n",
    "\n",
    "scoring_model = score_model.ScoringTransformer(\n",
    "    params['n_data_qubits'], params['n_check_qubits'], h, d_model, N_dec, device, dropout=0).to(device)\n",
    "\n",
    "p = os.path.join(\n",
    "    utils.get_best_scoring_model_path())\n",
    "scoring_model.load_state_dict(torch.load(p, map_location=device))\n",
    "\n",
    "generating_model = gen_model.GeneratingModel(\n",
    "    device=device,\n",
    ")\n",
    "\n",
    "p_eval_range = params['eval_p_range']\n",
    "evaluate_performance(scoring_model, generating_model, p_eval_range, 100, is_init_epoch=False, n_tests=1_000_000)"
   ]
  }
 ],
 "metadata": {
  "kernelspec": {
   "display_name": "Python 3",
   "language": "python",
   "name": "python3"
  },
  "language_info": {
   "codemirror_mode": {
    "name": "ipython",
    "version": 3
   },
   "file_extension": ".py",
   "mimetype": "text/x-python",
   "name": "python",
   "nbconvert_exporter": "python",
   "pygments_lexer": "ipython3",
   "version": "3.10.6"
  },
  "orig_nbformat": 4,
  "vscode": {
   "interpreter": {
    "hash": "916dbcbb3f70747c44a77c7bcd40155683ae19c65e1c03b4aa3499c5328201f1"
   }
  }
 },
 "nbformat": 4,
 "nbformat_minor": 2
}
