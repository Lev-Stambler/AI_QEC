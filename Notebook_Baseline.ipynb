{
 "cells": [
  {
   "cell_type": "code",
   "execution_count": 1,
   "metadata": {},
   "outputs": [],
   "source": [
    "# !pip install livelossplot -q\n",
    "# !pip install bposd -q\n",
    "# !pip install json -q"
   ]
  },
  {
   "cell_type": "code",
   "execution_count": 2,
   "metadata": {},
   "outputs": [],
   "source": [
    "import os\n",
    "import sys\n",
    "sys.path.append(os.getcwd() + \"/src\")"
   ]
  },
  {
   "cell_type": "code",
   "execution_count": 3,
   "metadata": {},
   "outputs": [],
   "source": [
    "from global_params import params\n",
    "\n",
    "error_rates = params['eval_p_range']\n",
    "n_samples = 50"
   ]
  },
  {
   "attachments": {},
   "cell_type": "markdown",
   "metadata": {},
   "source": [
    "## Benchmark random CPC codes"
   ]
  },
  {
   "cell_type": "code",
   "execution_count": 4,
   "metadata": {},
   "outputs": [
    {
     "name": "stdout",
     "output_type": "stream",
     "text": [
      "error rate 0.005 and wsr 0.97832 is better than 0.0\n",
      "error rate 0.005 and wsr 0.98664 is better than 0.97832\n",
      "error rate 0.005 and wsr 0.98894 is better than 0.98664\n",
      "error rate 0.005 and wsr 0.9896 is better than 0.98894\n",
      "WRITING {'random_cpc': {'error_rate_0.005': 0.9896, 'error_rate_0.005_pc': array([[0, 0, 0, 0, 1, 0, 0, 1, 1, 0, 0, 0, 0, 1, 0, 1, 1, 1, 0, 0, 1, 0,\n",
      "        1, 0, 0, 0, 1, 0, 1, 0, 0, 0, 1, 1, 1, 0, 1, 0, 0, 0, 0, 0, 0, 0,\n",
      "        0, 1, 0, 0, 0, 0, 0, 0, 0, 0, 0, 0, 0, 0, 0, 0],\n",
      "       [0, 0, 0, 0, 0, 0, 0, 1, 0, 0, 0, 1, 1, 0, 1, 0, 1, 0, 1, 0, 0, 0,\n",
      "        1, 1, 0, 0, 0, 0, 1, 0, 0, 0, 0, 0, 1, 0, 0, 1, 1, 1, 1, 0, 1, 0,\n",
      "        1, 0, 1, 0, 0, 0, 0, 0, 0, 0, 0, 0, 0, 0, 0, 0],\n",
      "       [0, 0, 0, 1, 0, 0, 0, 1, 0, 1, 0, 0, 0, 0, 0, 1, 1, 0, 0, 0, 1, 0,\n",
      "        1, 0, 0, 0, 0, 0, 0, 1, 0, 0, 0, 0, 0, 1, 0, 0, 1, 0, 1, 0, 1, 0,\n",
      "        0, 0, 0, 1, 0, 0, 0, 0, 0, 0, 0, 0, 0, 0, 0, 0],\n",
      "       [1, 0, 1, 0, 0, 0, 1, 0, 0, 1, 0, 0, 0, 0, 0, 0, 0, 0, 1, 1, 0, 1,\n",
      "        1, 1, 0, 1, 0, 1, 0, 0, 0, 1, 0, 0, 0, 0, 1, 0, 0, 0, 0, 0, 0, 0,\n",
      "        0, 0, 0, 0, 1, 0, 0, 0, 0, 0, 0, 0, 0, 0, 0, 0],\n",
      "       [0, 1, 0, 0, 0, 1, 0, 0, 0, 0, 0, 0, 1, 0, 0, 0, 0, 0, 0, 1, 1, 1,\n",
      "        0, 1, 0, 1, 0, 0, 0, 1, 1, 0, 1, 0, 0, 1, 0, 0, 0, 0, 0, 1, 0, 0,\n",
      "        0, 0, 0, 0, 0, 1, 0, 0, 0, 0, 0, 0, 0, 0, 0, 0],\n",
      "       [0, 0, 1, 1, 1, 1, 0, 0, 1, 1, 0, 0, 1, 1, 0, 0, 0, 1, 1, 0, 1, 0,\n",
      "        0, 0, 0, 1, 0, 0, 1, 1, 0, 1, 0, 0, 0, 0, 0, 0, 0, 1, 0, 0, 0, 0,\n",
      "        0, 0, 0, 0, 0, 0, 1, 0, 0, 0, 0, 0, 0, 0, 0, 0],\n",
      "       [1, 1, 0, 0, 0, 1, 0, 0, 0, 0, 0, 1, 0, 0, 0, 0, 1, 1, 0, 0, 1, 0,\n",
      "        0, 0, 0, 0, 0, 1, 0, 0, 0, 0, 0, 0, 0, 0, 0, 0, 0, 0, 0, 0, 0, 0,\n",
      "        1, 0, 0, 0, 0, 0, 0, 1, 0, 0, 0, 0, 0, 0, 0, 0],\n",
      "       [1, 0, 1, 0, 0, 0, 1, 0, 0, 0, 1, 1, 0, 0, 0, 1, 0, 0, 1, 1, 1, 1,\n",
      "        0, 0, 1, 0, 0, 0, 1, 1, 0, 1, 0, 0, 0, 0, 0, 1, 1, 1, 0, 0, 1, 0,\n",
      "        0, 0, 0, 0, 0, 0, 0, 0, 1, 0, 0, 0, 0, 0, 0, 0],\n",
      "       [0, 0, 0, 0, 0, 0, 1, 0, 0, 0, 0, 0, 0, 1, 0, 0, 1, 1, 1, 0, 1, 1,\n",
      "        0, 1, 1, 1, 1, 0, 0, 0, 1, 0, 0, 1, 0, 0, 0, 0, 0, 0, 1, 0, 1, 1,\n",
      "        1, 0, 0, 0, 0, 0, 0, 0, 0, 1, 0, 0, 0, 0, 0, 0],\n",
      "       [0, 0, 0, 1, 1, 0, 0, 0, 0, 0, 0, 0, 1, 1, 0, 0, 1, 1, 0, 0, 0, 1,\n",
      "        0, 0, 1, 0, 0, 1, 1, 0, 0, 0, 0, 0, 0, 1, 0, 0, 0, 0, 0, 0, 1, 0,\n",
      "        0, 0, 0, 0, 0, 0, 0, 0, 0, 0, 1, 0, 0, 0, 0, 0],\n",
      "       [0, 1, 0, 0, 0, 0, 0, 0, 1, 0, 1, 0, 0, 0, 0, 1, 0, 0, 1, 0, 0, 0,\n",
      "        1, 1, 1, 1, 0, 0, 1, 0, 0, 0, 0, 0, 0, 1, 0, 1, 1, 1, 0, 1, 0, 1,\n",
      "        0, 0, 0, 0, 0, 0, 0, 0, 0, 0, 0, 1, 0, 0, 0, 0],\n",
      "       [0, 0, 0, 1, 0, 1, 0, 0, 1, 0, 0, 1, 0, 0, 0, 1, 1, 1, 0, 1, 1, 0,\n",
      "        1, 0, 1, 1, 0, 0, 0, 0, 1, 0, 0, 1, 0, 1, 1, 0, 0, 0, 0, 0, 0, 1,\n",
      "        0, 0, 0, 0, 0, 0, 0, 0, 0, 0, 0, 0, 1, 0, 0, 0],\n",
      "       [0, 1, 0, 0, 0, 0, 0, 0, 0, 1, 0, 0, 0, 0, 1, 1, 1, 0, 1, 0, 1, 0,\n",
      "        1, 0, 0, 1, 0, 1, 0, 1, 0, 0, 0, 0, 1, 0, 1, 0, 0, 0, 0, 0, 0, 0,\n",
      "        1, 0, 0, 0, 0, 0, 0, 0, 0, 0, 0, 0, 0, 1, 0, 0],\n",
      "       [0, 0, 0, 0, 0, 0, 1, 0, 1, 1, 1, 0, 0, 1, 0, 1, 1, 1, 1, 1, 0, 1,\n",
      "        1, 0, 1, 0, 0, 1, 0, 1, 1, 1, 0, 0, 0, 0, 0, 0, 1, 1, 0, 1, 0, 0,\n",
      "        0, 0, 0, 0, 0, 0, 0, 0, 0, 0, 0, 0, 0, 0, 1, 0],\n",
      "       [0, 1, 1, 0, 0, 0, 0, 0, 0, 0, 1, 0, 0, 0, 1, 0, 1, 1, 0, 1, 1, 1,\n",
      "        0, 0, 0, 1, 0, 1, 0, 0, 0, 1, 1, 1, 1, 0, 0, 0, 0, 0, 0, 1, 0, 0,\n",
      "        0, 0, 0, 0, 0, 0, 0, 0, 0, 0, 0, 0, 0, 0, 0, 1]], dtype=uint8)}}\n"
     ]
    }
   ],
   "source": [
    "from scoring.score_dataset import run_decoder\n",
    "import json\n",
    "from CPC import generate_random\n",
    "import numpy as np\n",
    "import utils\n",
    "\n",
    "best_word_succ_rates = [0.0] * len(error_rates)\n",
    "best_pc = [[]] * len(error_rates)\n",
    "\n",
    "for i, e in enumerate(error_rates):\n",
    "\tfor _ in range(n_samples):\n",
    "\t\tpc, _, _, _ = generate_random.random_cpc()\n",
    "\t\twsr = run_decoder(pc, np.ones(pc.shape[-1]) * e)\n",
    "\t\tif wsr > best_word_succ_rates[i]:\n",
    "\t\t\tprint(f\"error rate {e} and wsr {wsr} is better than {best_word_succ_rates[i]}\")\n",
    "\t\t\tbest_word_succ_rates[i] = wsr\n",
    "\t\t\tbest_pc[i] = pc\n",
    "\n",
    "out_json = {'random_cpc': {}}\n",
    "for i, r in enumerate(best_word_succ_rates):\n",
    "\tout_json['random_cpc'][f\"error_rate_{error_rates[i]}\"] = r\n",
    "\tout_json['random_cpc'][f\"error_rate_{error_rates[i]}_pc\"] = best_pc[i]\n",
    "\n",
    "\n",
    "with open(utils.get_eval_baseline_path(), \"w\") as outfile:\n",
    "    print(\"WRITING\", out_json)\n",
    "    json.dump(out_json, outfile, cls=utils.NpEncoder)"
   ]
  },
  {
   "attachments": {},
   "cell_type": "markdown",
   "metadata": {},
   "source": [
    "## Benchmark AI learned codes"
   ]
  },
  {
   "cell_type": "code",
   "execution_count": 5,
   "metadata": {},
   "outputs": [
    {
     "name": "stdout",
     "output_type": "stream",
     "text": [
      "cpu\n",
      "Starting to evaluate performance for epoch 100 with file eval/results_bsc_iid_noise_(15,0).json\n",
      "Best performance for p=0.005 is 0.9856\n",
      "Best performance for p=0.005 is 0.9856\n",
      "Best performance for p=0.005 is 0.98764\n",
      "Best performance for p=0.005 is 0.98764\n",
      "Best performance for p=0.005 is 0.98764\n",
      "Best performance for p=0.005 is 0.98764\n",
      "Best performance for p=0.005 is 0.98764\n",
      "Best performance for p=0.005 is 0.98764\n",
      "Best performance for p=0.005 is 0.98764\n",
      "Best performance for p=0.005 is 0.98764\n",
      "Best performance for p=0.005 is 0.98764\n",
      "Best performance for p=0.005 is 0.98764\n",
      "Best performance for p=0.005 is 0.98764\n",
      "Best performance for p=0.005 is 0.98764\n",
      "Best performance for p=0.005 is 0.98764\n",
      "Best performance for p=0.005 is 0.98764\n",
      "Best performance for p=0.005 is 0.98764\n",
      "Best performance for p=0.005 is 0.98764\n",
      "Best performance for p=0.005 is 0.98764\n",
      "Best performance for p=0.005 is 0.98764\n",
      "Best performance for p=0.005 is 0.98764\n",
      "Best performance for p=0.005 is 0.98764\n",
      "Best performance for p=0.005 is 0.98764\n",
      "Best performance for p=0.005 is 0.98764\n",
      "Best performance for p=0.005 is 0.98814\n",
      "Best performance for p=0.005 is 0.98814\n",
      "Best performance for p=0.005 is 0.98814\n",
      "Best performance for p=0.005 is 0.98832\n",
      "Best performance for p=0.005 is 0.98832\n",
      "Best performance for p=0.005 is 0.98832\n",
      "Best performance for p=0.005 is 0.98832\n",
      "Best performance for p=0.005 is 0.98926\n",
      "Best performance for p=0.005 is 0.98926\n",
      "Best performance for p=0.005 is 0.98926\n",
      "Best performance for p=0.005 is 0.98926\n",
      "Best performance for p=0.005 is 0.98926\n",
      "Best performance for p=0.005 is 0.98926\n",
      "Best performance for p=0.005 is 0.98926\n",
      "Best performance for p=0.005 is 0.98926\n",
      "Best performance for p=0.005 is 0.98926\n",
      "Best performance for p=0.005 is 0.98926\n",
      "Best performance for p=0.005 is 0.98926\n",
      "Best performance for p=0.005 is 0.98926\n",
      "Best performance for p=0.005 is 0.98926\n",
      "Best performance for p=0.005 is 0.98926\n",
      "Best performance for p=0.005 is 0.98926\n",
      "Best performance for p=0.005 is 0.98926\n",
      "Best performance for p=0.005 is 0.98926\n",
      "Best performance for p=0.005 is 0.98926\n",
      "Best performance for p=0.005 is 0.98926\n",
      "WRITING {'genetic_epoch_100': {'p_0.005': 0.0, 'low_p_best_0.005': 0.98926, 'low_p_best_0.005_pc': array([0, 1, 0, 0, 0, 0, 0, 0, 1, 0, 0, 0, 0, 0, 1, 1, 1, 1, 0, 0, 0, 0,\n",
      "       0, 1, 0, 0, 1, 0, 1, 1, 0, 0, 0, 0, 0, 0, 0, 1, 0, 0, 1, 1, 0, 0,\n",
      "       1, 1, 0, 0, 0, 0, 0, 0, 0, 0, 0, 0, 0, 0, 0, 0], dtype=uint8)}}\n",
      "Done evaluating performance for epoch 100\n"
     ]
    }
   ],
   "source": [
    "from training_qec import evaluate_performance\n",
    "from generating import generating_model as gen_model\n",
    "from scoring import score_model\n",
    "from global_params import params\n",
    "import utils\n",
    "import torch\n",
    "# TODO: use OSD for eval\n",
    "N_dec = 8  # Changed from 6\n",
    "h = 12  # changed from 8\n",
    "d_model = 60\n",
    "\n",
    "device = torch.device(\"cuda\" if torch.cuda.is_available() else \"cpu\")\n",
    "print(device)\n",
    "\n",
    "scoring_model = score_model.ScoringTransformer(\n",
    "    params['n_data_qubits'], params['n_check_qubits'], h, d_model, N_dec, device, dropout=0).to(device)\n",
    "\n",
    "p = os.path.join(\n",
    "    utils.get_best_scoring_model_path())\n",
    "scoring_model.load_state_dict(torch.load(p, map_location=device))\n",
    "\n",
    "generating_model = gen_model.GeneratingModel(\n",
    "    device=device,\n",
    ")\n",
    "\n",
    "p_eval_range = params['eval_p_range']\n",
    "evaluate_performance(scoring_model, generating_model, p_eval_range, epoch=100, is_init_epoch=False, averaging_samples=n_samples, n_tests=1_000_000)"
   ]
  }
 ],
 "metadata": {
  "kernelspec": {
   "display_name": "Python 3",
   "language": "python",
   "name": "python3"
  },
  "language_info": {
   "codemirror_mode": {
    "name": "ipython",
    "version": 3
   },
   "file_extension": ".py",
   "mimetype": "text/x-python",
   "name": "python",
   "nbconvert_exporter": "python",
   "pygments_lexer": "ipython3",
   "version": "3.10.6"
  },
  "orig_nbformat": 4,
  "vscode": {
   "interpreter": {
    "hash": "916dbcbb3f70747c44a77c7bcd40155683ae19c65e1c03b4aa3499c5328201f1"
   }
  }
 },
 "nbformat": 4,
 "nbformat_minor": 2
}
