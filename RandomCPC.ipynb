{
 "cells": [
  {
   "cell_type": "code",
   "execution_count": 1,
   "metadata": {},
   "outputs": [],
   "source": [
    "import os\n",
    "import sys\n",
    "sys.path.append(os.getcwd() + \"/src\")"
   ]
  },
  {
   "attachments": {},
   "cell_type": "markdown",
   "metadata": {},
   "source": [
    "# Seeing if there is Threshold for CPC codes"
   ]
  },
  {
   "cell_type": "code",
   "execution_count": 2,
   "metadata": {},
   "outputs": [
    {
     "name": "stdout",
     "output_type": "stream",
     "text": [
      "For n=30, m=27, e=0.005, we have error rate 0.026000000000000023\n"
     ]
    },
    {
     "name": "stderr",
     "output_type": "stream",
     "text": [
      "/home/lev/code/research/ai/AI_QEC/src/scoring/score_dataset.py:54: RuntimeWarning: invalid value encountered in double_scalars\n",
      "  if bp_frame_error_rate_eb / (1-p) < err_bar_cutoff:\n"
     ]
    },
    {
     "name": "stdout",
     "output_type": "stream",
     "text": [
      "For n=30, m=27, e=0.005, we have error rate 0.024499999999999966\n",
      "For n=60, m=54, e=0.005, we have error rate 0.07299999999999995\n",
      "For n=60, m=54, e=0.005, we have error rate 0.07199999999999995\n",
      "For n=120, m=108, e=0.005, we have error rate 0.1975\n",
      "For n=120, m=108, e=0.005, we have error rate 0.16349999999999998\n",
      "For n=240, m=216, e=0.005, we have error rate 0.31699999999999995\n"
     ]
    }
   ],
   "source": [
    "from scoring.score_dataset import run_decoder, run_decoder_bp_osd\n",
    "import json\n",
    "from global_params import params\n",
    "from CPC import generate_random\n",
    "import numpy as np\n",
    "import utils\n",
    "\n",
    "outfile = 'tmp_random_thresh_bp_osd.json'\n",
    "error_rates = [0.005, 0.01, 0.015, 0.02]\n",
    "# error_rates = [0.015, 0.02]\n",
    "R = 0.1\n",
    "n_bits = [30, 60, 120, 240, 480]\n",
    "n_samples = 10\n",
    "\n",
    "\n",
    "def get_key(n, m, err):\n",
    "    return f\"({n},{m}):{err}\"\n",
    "\n",
    "\n",
    "best_dict = {}\n",
    "best_pc = {}\n",
    "for e in error_rates:\n",
    "    for n_bit in n_bits:\n",
    "        m = int((1 - R) * n_bit)\n",
    "        k = get_key(n_bit, m, e)\n",
    "        for _ in range(n_samples):\n",
    "            pc, _, _, _ = generate_random.random_cpc(n_bits=n_bit, n_checks=m)\n",
    "            wsr = run_decoder_bp_osd(pc, np.ones(pc.shape[-1]) * e, 2_000)\n",
    "            if k not in best_dict:\n",
    "                best_dict[k] = 1\n",
    "            if 1 - wsr < best_dict[k]:\n",
    "                print(\n",
    "                    f\"For n={n_bit}, m={m}, e={e}, we have error rate {1 - wsr}\")\n",
    "                best_dict[k] = 1 - wsr\n",
    "                best_pc[k] = pc\n",
    "\n",
    "\t\t\t\t# TODO: where we picked off vibe etc\n",
    "        out_json = {}\n",
    "        out_json['err_rates'] = best_dict\n",
    "        # out_json['corresponding_pc'] = best_pc\n",
    "        with open(outfile, \"w\") as outfilef:\n",
    "            # print(\"WRITING\", out_json)\n",
    "            json.dump(out_json, outfilef, cls=utils.NpEncoder)\n"
   ]
  }
 ],
 "metadata": {
  "kernelspec": {
   "display_name": "Python 3",
   "language": "python",
   "name": "python3"
  },
  "language_info": {
   "codemirror_mode": {
    "name": "ipython",
    "version": 3
   },
   "file_extension": ".py",
   "mimetype": "text/x-python",
   "name": "python",
   "nbconvert_exporter": "python",
   "pygments_lexer": "ipython3",
   "version": "3.10.6"
  },
  "orig_nbformat": 4,
  "vscode": {
   "interpreter": {
    "hash": "916dbcbb3f70747c44a77c7bcd40155683ae19c65e1c03b4aa3499c5328201f1"
   }
  }
 },
 "nbformat": 4,
 "nbformat_minor": 2
}
