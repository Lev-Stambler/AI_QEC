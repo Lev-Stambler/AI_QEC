{
 "cells": [
  {
   "cell_type": "code",
   "execution_count": 1,
   "metadata": {},
   "outputs": [],
   "source": [
    "import os\n",
    "import sys\n",
    "sys.path.append(os.getcwd() + \"/src\")"
   ]
  },
  {
   "attachments": {},
   "cell_type": "markdown",
   "metadata": {},
   "source": [
    "# Seeing if there is Threshold for CPC codes"
   ]
  },
  {
   "cell_type": "code",
   "execution_count": 2,
   "metadata": {},
   "outputs": [],
   "source": [
    "from scoring.score_dataset import run_decoder\n",
    "import json\n",
    "from global_params import params\n",
    "from CPC import generate_random\n",
    "import numpy as np\n",
    "import utils\n",
    "\n",
    "error_rates = [0.005, 0.01, 0.015, 0.02]\n",
    "R = 0.2\n",
    "n_bits = [30, 60, 120, 240]\n",
    "n_samples = 100\n",
    "\n",
    "def get_key(n, m, err):\n",
    "\treturn f\"({n},{m}):{err}\"\n",
    "\n",
    "best_dict = {}\n",
    "best_pc = {}\n",
    "for n_bit in n_bits:\n",
    "\tfor e in error_rates:\n",
    "\t\tm = int((1 - R) * n_bit)\n",
    "\t\tk = get_key(n_bit, m, e)\n",
    "\t\tfor _ in range(n_samples):\n",
    "\t\t\tpc, _, _, _ = generate_random.random_cpc(n_bits=n_bit, n_checks=m)\n",
    "\t\t\twsr = run_decoder(pc, np.ones(pc.shape[-1]) * e)\n",
    "\t\t\tif k not in best_dict:\n",
    "\t\t\t\tbest_dict[k] = 1\n",
    "\t\t\tif 1 - wsr < best_dict[k]:\n",
    "\t\t\t\tprint(f\"For n={n_bit}, m={m}, e={e}, we have error rate {1 - wsr}\")\n",
    "\t\t\t\tbest_dict[k] = 1 - wsr\n",
    "\t\t\t\tbest_pc[k] = pc\n",
    "\n",
    "out_json = {}\n",
    "out_json['err_rates'] = best_dict\n",
    "out_json['corresponding_pc'] = best_pc\n",
    "\n",
    "outfile = 'tmp_random_thresh.json'\n",
    "with open(outfile, \"w\") as outfile:\n",
    "    print(\"WRITING\", out_json)\n",
    "    json.dump(out_json, outfile, cls=utils.NpEncoder)\n"
   ]
  }
 ],
 "metadata": {
  "kernelspec": {
   "display_name": "Python 3",
   "language": "python",
   "name": "python3"
  },
  "language_info": {
   "codemirror_mode": {
    "name": "ipython",
    "version": 3
   },
   "file_extension": ".py",
   "mimetype": "text/x-python",
   "name": "python",
   "nbconvert_exporter": "python",
   "pygments_lexer": "ipython3",
   "version": "3.10.6"
  },
  "orig_nbformat": 4,
  "vscode": {
   "interpreter": {
    "hash": "916dbcbb3f70747c44a77c7bcd40155683ae19c65e1c03b4aa3499c5328201f1"
   }
  }
 },
 "nbformat": 4,
 "nbformat_minor": 2
}
