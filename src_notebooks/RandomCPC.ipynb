{
 "cells": [
  {
   "cell_type": "code",
   "execution_count": 1,
   "metadata": {},
   "outputs": [],
   "source": [
    "import os\n",
    "import sys\n",
    "sys.path.append(f\"{os.getcwd()}/../src\")"
   ]
  },
  {
   "attachments": {},
   "cell_type": "markdown",
   "metadata": {},
   "source": [
    "## Setup Params"
   ]
  },
  {
   "cell_type": "code",
   "execution_count": 2,
   "metadata": {},
   "outputs": [
    {
     "name": "stdout",
     "output_type": "stream",
     "text": [
      "Simplifying the input code\n",
      "Simplifying the input code\n",
      "Simplifying the input code\n",
      "Simplifying the input code\n",
      "Simplifying the input code\n",
      "Simplifying the input code\n",
      "Simplifying the input code\n",
      "Simplifying the input code\n",
      "Simplifying the input code\n",
      "Simplifying the input code\n",
      "Simplifying the input code\n",
      "Simplifying the input code\n",
      "Simplifying the input code\n",
      "Simplifying the input code\n",
      "Simplifying the input code\n",
      "Simplifying the input code\n"
     ]
    }
   ],
   "source": [
    "from data_collection.random_cpc import random_code_trials, RandomCPCTrialParams\n",
    "\n",
    "trials = []\n",
    "p_error_rates = [[0.005, 0, 0.005], [0.01, 0, 0.01],\n",
    "                 [0.015, 0, 0.015], [0.02, 0, 0.02]]\n",
    "ns = [20, 40, 80, 120]\n",
    "mxs = mzs = [15, 30, 60, 90]\n",
    "dvx = dvz = 3\n",
    "n_cross_checks = [30, 90, 150, 210]  # TODO: this is totally random!!\n",
    "\n",
    "for p in p_error_rates:\n",
    "    for i in range(len(ns)):\n",
    "        trials.append(RandomCPCTrialParams(\n",
    "            ns[i], mxs[i], dvx, mzs[i], dvz, n_cross_checks[i], p, seeds=[0, 1]))\n",
    "\n",
    "random_code_trials(trials, \"../saved_cpc_codes\", \"../eval/random_res.json\")\n"
   ]
  }
 ],
 "metadata": {
  "kernelspec": {
   "display_name": "Python 3",
   "language": "python",
   "name": "python3"
  },
  "language_info": {
   "codemirror_mode": {
    "name": "ipython",
    "version": 3
   },
   "file_extension": ".py",
   "mimetype": "text/x-python",
   "name": "python",
   "nbconvert_exporter": "python",
   "pygments_lexer": "ipython3",
   "version": "3.10.6"
  },
  "orig_nbformat": 4
 },
 "nbformat": 4,
 "nbformat_minor": 2
}
