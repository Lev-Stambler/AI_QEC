{
 "cells": [
  {
   "cell_type": "code",
   "execution_count": 1,
   "metadata": {},
   "outputs": [],
   "source": [
    "import os\n",
    "import sys\n",
    "sys.path.append(f\"{os.getcwd()}/../src\")"
   ]
  },
  {
   "attachments": {},
   "cell_type": "markdown",
   "metadata": {},
   "source": [
    "## Setup Params"
   ]
  },
  {
   "cell_type": "code",
   "execution_count": 3,
   "metadata": {},
   "outputs": [
    {
     "name": "stdout",
     "output_type": "stream",
     "text": [
      "Simplifying the input code\n",
      "Simplifying the input code\n",
      "Simplifying the input code\n"
     ]
    },
    {
     "ename": "KeyboardInterrupt",
     "evalue": "",
     "output_type": "error",
     "traceback": [
      "\u001b[0;31m---------------------------------------------------------------------------\u001b[0m",
      "\u001b[0;31mKeyboardInterrupt\u001b[0m                         Traceback (most recent call last)",
      "\u001b[1;32m/home/lev/code/research/ai/AI_QEC/src_notebooks/RandomCPC.ipynb Cell 3\u001b[0m in \u001b[0;36m1\n\u001b[1;32m     <a href='vscode-notebook-cell:/home/lev/code/research/ai/AI_QEC/src_notebooks/RandomCPC.ipynb#X20sZmlsZQ%3D%3D?line=11'>12</a>\u001b[0m \t\u001b[39mfor\u001b[39;00m i \u001b[39min\u001b[39;00m \u001b[39mrange\u001b[39m(\u001b[39mlen\u001b[39m(ns)):\n\u001b[1;32m     <a href='vscode-notebook-cell:/home/lev/code/research/ai/AI_QEC/src_notebooks/RandomCPC.ipynb#X20sZmlsZQ%3D%3D?line=12'>13</a>\u001b[0m \t\ttrials\u001b[39m.\u001b[39mappend(RandomCPCTrialParams(ns[i], mxs[i], dvx, mzs[i], dvz, n_cross_checks[i], p))\n\u001b[0;32m---> <a href='vscode-notebook-cell:/home/lev/code/research/ai/AI_QEC/src_notebooks/RandomCPC.ipynb#X20sZmlsZQ%3D%3D?line=14'>15</a>\u001b[0m random_code_trials(trials, \u001b[39m\"\u001b[39;49m\u001b[39m../saved_cpc_codes\u001b[39;49m\u001b[39m\"\u001b[39;49m, \u001b[39m\"\u001b[39;49m\u001b[39m../eval/random_res.json\u001b[39;49m\u001b[39m\"\u001b[39;49m)\n",
      "File \u001b[0;32m~/code/research/ai/AI_QEC/src_notebooks/../src/data_collection/random_cpc.py:106\u001b[0m, in \u001b[0;36mrandom_code_trials\u001b[0;34m(params, cpc_code_save_dir, save_res_file, seeds)\u001b[0m\n\u001b[1;32m    103\u001b[0m \u001b[39mif\u001b[39;00m \u001b[39mnot\u001b[39;00m os\u001b[39m.\u001b[39mpath\u001b[39m.\u001b[39mexists(cpc_path):\n\u001b[1;32m    104\u001b[0m     Hx, Hz \u001b[39m=\u001b[39m code_gen\u001b[39m.\u001b[39mgen_code(param\u001b[39m.\u001b[39mn, param\u001b[39m.\u001b[39mm_x, param\u001b[39m.\u001b[39mdv_x, seeds[\u001b[39m0\u001b[39m]),\\\n\u001b[1;32m    105\u001b[0m         code_gen\u001b[39m.\u001b[39mgen_code(param\u001b[39m.\u001b[39mn, param\u001b[39m.\u001b[39mm_z, param\u001b[39m.\u001b[39mdv_z, seeds[\u001b[39m1\u001b[39m])\n\u001b[0;32m--> 106\u001b[0m     cpc \u001b[39m=\u001b[39m cpc_code\u001b[39m.\u001b[39;49mgen_cpc_from_classical_codes(Hx, Hz)\n\u001b[1;32m    107\u001b[0m     cpc\u001b[39m.\u001b[39msave(cpc_path)\n\u001b[1;32m    108\u001b[0m \u001b[39melse\u001b[39;00m:\n",
      "File \u001b[0;32m~/code/research/ai/AI_QEC/src_notebooks/../src/CPC/cpc_code.py:318\u001b[0m, in \u001b[0;36mgen_cpc_from_classical_codes\u001b[0;34m(H_x, H_z)\u001b[0m\n\u001b[1;32m    314\u001b[0m         \u001b[39mif\u001b[39;00m H_z[check_z, qubit]:\n\u001b[1;32m    315\u001b[0m             edges\u001b[39m.\u001b[39mappend(\n\u001b[1;32m    316\u001b[0m                 CPCEdge(checks_z[check_z], data_qubits[qubit], bit_check\u001b[39m=\u001b[39m\u001b[39mFalse\u001b[39;00m))\n\u001b[0;32m--> 318\u001b[0m \u001b[39mreturn\u001b[39;00m CPCCode(edges, auto_virtual_edges\u001b[39m=\u001b[39;49m\u001b[39mTrue\u001b[39;49;00m)\n",
      "File \u001b[0;32m~/code/research/ai/AI_QEC/src_notebooks/../src/CPC/cpc_code.py:96\u001b[0m, in \u001b[0;36mCPCCode.__init__\u001b[0;34m(self, edges, auto_virtual_edges)\u001b[0m\n\u001b[1;32m     94\u001b[0m \u001b[39mif\u001b[39;00m auto_virtual_edges:\n\u001b[1;32m     95\u001b[0m     \u001b[39mprint\u001b[39m(\u001b[39m\"\u001b[39m\u001b[39mSimplifying the input code\u001b[39m\u001b[39m\"\u001b[39m)\n\u001b[0;32m---> 96\u001b[0m     \u001b[39mself\u001b[39;49m\u001b[39m.\u001b[39;49msimplify_virtual_edges()\n",
      "File \u001b[0;32m~/code/research/ai/AI_QEC/src_notebooks/../src/CPC/cpc_code.py:111\u001b[0m, in \u001b[0;36mCPCCode.simplify_virtual_edges\u001b[0;34m(self)\u001b[0m\n\u001b[1;32m    108\u001b[0m     \u001b[39mreturn\u001b[39;00m \u001b[39mFalse\u001b[39;00m\n\u001b[1;32m    110\u001b[0m n_simp \u001b[39m=\u001b[39m \u001b[39m0\u001b[39m\n\u001b[0;32m--> 111\u001b[0m \u001b[39mwhile\u001b[39;00m simp_round():\n\u001b[1;32m    112\u001b[0m     n_simp \u001b[39m+\u001b[39m\u001b[39m=\u001b[39m \u001b[39m1\u001b[39m\n",
      "File \u001b[0;32m~/code/research/ai/AI_QEC/src_notebooks/../src/CPC/cpc_code.py:104\u001b[0m, in \u001b[0;36mCPCCode.simplify_virtual_edges.<locals>.simp_round\u001b[0;34m()\u001b[0m\n\u001b[1;32m    102\u001b[0m \u001b[39mdef\u001b[39;00m \u001b[39msimp_round\u001b[39m():\n\u001b[1;32m    103\u001b[0m     \u001b[39mfor\u001b[39;00m vert \u001b[39min\u001b[39;00m \u001b[39mself\u001b[39m\u001b[39m.\u001b[39mvertices:\n\u001b[0;32m--> 104\u001b[0m         simped \u001b[39m=\u001b[39m \u001b[39mself\u001b[39;49m\u001b[39m.\u001b[39;49mapply_simplify_rule(vert)\n\u001b[1;32m    105\u001b[0m         \u001b[39mif\u001b[39;00m simped:\n\u001b[1;32m    106\u001b[0m             \u001b[39m# Start the while loop again\u001b[39;00m\n\u001b[1;32m    107\u001b[0m             \u001b[39mreturn\u001b[39;00m \u001b[39mTrue\u001b[39;00m\n",
      "File \u001b[0;32m~/code/research/ai/AI_QEC/src_notebooks/../src/CPC/cpc_code.py:266\u001b[0m, in \u001b[0;36mCPCCode.apply_simplify_rule\u001b[0;34m(self, vertex)\u001b[0m\n\u001b[1;32m    264\u001b[0m e1: CPCEdge \u001b[39m=\u001b[39m \u001b[39mself\u001b[39m\u001b[39m.\u001b[39mvertex_edge_adj[vertex\u001b[39m.\u001b[39mid][i]\n\u001b[1;32m    265\u001b[0m e2: CPCEdge \u001b[39m=\u001b[39m \u001b[39mself\u001b[39m\u001b[39m.\u001b[39mvertex_edge_adj[vertex\u001b[39m.\u001b[39mid][j]\n\u001b[0;32m--> 266\u001b[0m v1 \u001b[39m=\u001b[39m e1\u001b[39m.\u001b[39mv2 \u001b[39mif\u001b[39;00m e1\u001b[39m.\u001b[39mv1\u001b[39m.\u001b[39mid \u001b[39m==\u001b[39m vertex\u001b[39m.\u001b[39mid \u001b[39melse\u001b[39;00m e1\u001b[39m.\u001b[39mv1\n\u001b[1;32m    267\u001b[0m v2 \u001b[39m=\u001b[39m e2\u001b[39m.\u001b[39mv2 \u001b[39mif\u001b[39;00m e2\u001b[39m.\u001b[39mv1\u001b[39m.\u001b[39mid \u001b[39m==\u001b[39m vertex\u001b[39m.\u001b[39mid \u001b[39melse\u001b[39;00m e2\u001b[39m.\u001b[39mv1\n\u001b[1;32m    268\u001b[0m \u001b[39mif\u001b[39;00m v1\u001b[39m.\u001b[39mcheck_qubit \u001b[39mand\u001b[39;00m v2\u001b[39m.\u001b[39mcheck_qubit \u001b[39mand\u001b[39;00m \u001b[39mnot\u001b[39;00m e1\u001b[39m.\u001b[39mvirtual_edge \u001b[39mand\u001b[39;00m \u001b[39mnot\u001b[39;00m e2\u001b[39m.\u001b[39mvirtual_edge:\n",
      "\u001b[0;31mKeyboardInterrupt\u001b[0m: "
     ]
    }
   ],
   "source": [
    "from data_collection.random_cpc import random_code_trials, RandomCPCTrialParams\n",
    "\n",
    "trials = []\n",
    "p_error_rates = [[0.005, 0, 0.005], [0.01, 0, 0.01],\n",
    "                 [0.015, 0, 0.015], [0.02, 0, 0.02]]\n",
    "ns = [20, 40, 80, 120]\n",
    "mxs = mzs = [15, 30, 60, 90]\n",
    "dvx = dvz = 3\n",
    "n_cross_checks = [30, 90, 150, 210]  # TODO: this is totally random!!\n",
    "\n",
    "for p in p_error_rates:\n",
    "    for i in range(len(ns)):\n",
    "        trials.append(RandomCPCTrialParams(\n",
    "            ns[i], mxs[i], dvx, mzs[i], dvz, n_cross_checks[i], p, seeds=[0, 1]))\n",
    "\n",
    "random_code_trials(trials, \"../saved_cpc_codes\", \"../eval/random_res.json\")\n"
   ]
  }
 ],
 "metadata": {
  "kernelspec": {
   "display_name": "Python 3",
   "language": "python",
   "name": "python3"
  },
  "language_info": {
   "codemirror_mode": {
    "name": "ipython",
    "version": 3
   },
   "file_extension": ".py",
   "mimetype": "text/x-python",
   "name": "python",
   "nbconvert_exporter": "python",
   "pygments_lexer": "ipython3",
   "version": "3.10.6"
  },
  "orig_nbformat": 4
 },
 "nbformat": 4,
 "nbformat_minor": 2
}
