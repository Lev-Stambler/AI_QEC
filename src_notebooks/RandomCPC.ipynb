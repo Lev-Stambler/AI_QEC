{
 "cells": [
  {
   "cell_type": "code",
   "execution_count": 8,
   "metadata": {},
   "outputs": [],
   "source": [
    "import os\n",
    "import sys\n",
    "sys.path.append(f\"{os.getcwd()}/../src\")"
   ]
  },
  {
   "attachments": {},
   "cell_type": "markdown",
   "metadata": {},
   "source": [
    "## Setup constants"
   ]
  },
  {
   "cell_type": "code",
   "execution_count": 9,
   "metadata": {},
   "outputs": [],
   "source": [
    "n_classic_x = 55\n",
    "m_classic_x = 40\n",
    "dv_classic_x = 3\n",
    "\n",
    "\n",
    "n_classic_z = 55\n",
    "m_classic_z = 45\n",
    "dv_classic_z = 3\n",
    "\n",
    "n_cross_checks = 10"
   ]
  },
  {
   "attachments": {},
   "cell_type": "markdown",
   "metadata": {},
   "source": [
    "## Construct the Codes without Cross Checks"
   ]
  },
  {
   "cell_type": "code",
   "execution_count": 10,
   "metadata": {},
   "outputs": [],
   "source": [
    "from CPC import cpc_code\n",
    "from ldpc_classical import code_gen"
   ]
  },
  {
   "cell_type": "code",
   "execution_count": 11,
   "metadata": {},
   "outputs": [
    {
     "data": {
      "text/plain": [
       "((40, 55), (45, 55))"
      ]
     },
     "execution_count": 11,
     "metadata": {},
     "output_type": "execute_result"
    }
   ],
   "source": [
    "Hx, Hz = code_gen.gen_code(n_classic_x, m_classic_x, dv_classic_x, 1), code_gen.gen_code(n_classic_z, m_classic_z, dv_classic_z, 2)\n",
    "Hx.shape, Hz.shape"
   ]
  },
  {
   "cell_type": "code",
   "execution_count": 12,
   "metadata": {},
   "outputs": [
    {
     "name": "stdout",
     "output_type": "stream",
     "text": [
      "Simplifying the input code\n"
     ]
    }
   ],
   "source": [
    "cpc = cpc_code.gen_cpc_from_classical_codes(Hx, Hz)"
   ]
  },
  {
   "attachments": {},
   "cell_type": "markdown",
   "metadata": {},
   "source": [
    "## Add Cross Checks"
   ]
  },
  {
   "cell_type": "code",
   "execution_count": 22,
   "metadata": {},
   "outputs": [],
   "source": [
    "import random\n",
    "\n",
    "i = 0\n",
    "check_verts = []\n",
    "[check_verts.append(v) for v in cpc.vertices if v.check_qubit]\n",
    "\n",
    "sample_list = list(range(len(check_verts)))\n",
    "\n",
    "while i < n_cross_checks:\n",
    "\tidxs = random.sample(sample_list, 2)\n",
    "\tcross_edge = cpc_code.CPCEdge(check_verts[idxs[0]], check_verts[idxs[1]])\n",
    "\tif not cpc.has_edge(cross_edge):\n",
    "\t\tcpc.add_edge(cross_edge)\n",
    "\t\ti += 1\n",
    "\n",
    "cpc.simplify_virtual_edges()"
   ]
  },
  {
   "attachments": {},
   "cell_type": "markdown",
   "metadata": {},
   "source": [
    "## Run BP trials on the tanner graph"
   ]
  },
  {
   "cell_type": "code",
   "execution_count": 23,
   "metadata": {},
   "outputs": [],
   "source": [
    "H, _ = cpc.get_tanner_graph()\n",
    "n_qubits = len(H[0])"
   ]
  },
  {
   "cell_type": "code",
   "execution_count": 24,
   "metadata": {},
   "outputs": [
    {
     "data": {
      "text/plain": [
       "0.06630000000000003"
      ]
     },
     "execution_count": 24,
     "metadata": {},
     "output_type": "execute_result"
    }
   ],
   "source": [
    "from ldpc_classical.aff3ct_wrapper import aff3ct_simulate\n",
    "\n",
    "aff3ct_simulate.get_wer(H, [0.01] * n_qubits) "
   ]
  }
 ],
 "metadata": {
  "kernelspec": {
   "display_name": "Python 3",
   "language": "python",
   "name": "python3"
  },
  "language_info": {
   "codemirror_mode": {
    "name": "ipython",
    "version": 3
   },
   "file_extension": ".py",
   "mimetype": "text/x-python",
   "name": "python",
   "nbconvert_exporter": "python",
   "pygments_lexer": "ipython3",
   "version": "3.10.6"
  },
  "orig_nbformat": 4
 },
 "nbformat": 4,
 "nbformat_minor": 2
}
