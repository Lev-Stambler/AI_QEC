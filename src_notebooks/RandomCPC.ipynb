{
 "cells": [
  {
   "cell_type": "code",
   "execution_count": 1,
   "metadata": {},
   "outputs": [],
   "source": [
    "import os\n",
    "import sys\n",
    "sys.path.append(f\"{os.getcwd()}/../src\")"
   ]
  },
  {
   "attachments": {},
   "cell_type": "markdown",
   "metadata": {},
   "source": [
    "## Setup Params"
   ]
  },
  {
   "cell_type": "code",
   "execution_count": 2,
   "metadata": {},
   "outputs": [
    {
     "ename": "ModuleNotFoundError",
     "evalue": "No module named 'data_collection.random_cpc'",
     "output_type": "error",
     "traceback": [
      "\u001b[0;31m---------------------------------------------------------------------------\u001b[0m",
      "\u001b[0;31mModuleNotFoundError\u001b[0m                       Traceback (most recent call last)",
      "\u001b[1;32m/home/lev/code/research/ai/AI_QEC/src_notebooks/RandomCPC.ipynb Cell 3\u001b[0m in \u001b[0;36m2\n\u001b[1;32m      <a href='vscode-notebook-cell:/home/lev/code/research/ai/AI_QEC/src_notebooks/RandomCPC.ipynb#X20sZmlsZQ%3D%3D?line=0'>1</a>\u001b[0m \u001b[39mfrom\u001b[39;00m \u001b[39mcommon\u001b[39;00m \u001b[39mimport\u001b[39;00m CPCTrialParams\n\u001b[0;32m----> <a href='vscode-notebook-cell:/home/lev/code/research/ai/AI_QEC/src_notebooks/RandomCPC.ipynb#X20sZmlsZQ%3D%3D?line=1'>2</a>\u001b[0m \u001b[39mfrom\u001b[39;00m \u001b[39mdata_collection\u001b[39;00m\u001b[39m.\u001b[39;00m\u001b[39mrandom_cpc\u001b[39;00m \u001b[39mimport\u001b[39;00m random_code_trials\n\u001b[1;32m      <a href='vscode-notebook-cell:/home/lev/code/research/ai/AI_QEC/src_notebooks/RandomCPC.ipynb#X20sZmlsZQ%3D%3D?line=3'>4</a>\u001b[0m trials \u001b[39m=\u001b[39m []\n\u001b[1;32m      <a href='vscode-notebook-cell:/home/lev/code/research/ai/AI_QEC/src_notebooks/RandomCPC.ipynb#X20sZmlsZQ%3D%3D?line=4'>5</a>\u001b[0m p_error_rates \u001b[39m=\u001b[39m [[\u001b[39m0.005\u001b[39m, \u001b[39m0\u001b[39m, \u001b[39m0.005\u001b[39m], [\u001b[39m0.01\u001b[39m, \u001b[39m0\u001b[39m, \u001b[39m0.01\u001b[39m],\n\u001b[1;32m      <a href='vscode-notebook-cell:/home/lev/code/research/ai/AI_QEC/src_notebooks/RandomCPC.ipynb#X20sZmlsZQ%3D%3D?line=5'>6</a>\u001b[0m                  [\u001b[39m0.015\u001b[39m, \u001b[39m0\u001b[39m, \u001b[39m0.015\u001b[39m], [\u001b[39m0.02\u001b[39m, \u001b[39m0\u001b[39m, \u001b[39m0.02\u001b[39m]]\n",
      "\u001b[0;31mModuleNotFoundError\u001b[0m: No module named 'data_collection.random_cpc'"
     ]
    }
   ],
   "source": [
    "from common import CPCTrialParams\n",
    "from data_collection.random_cpc_trials import random_code_trials\n",
    "\n",
    "trials = []\n",
    "p_error_rates = [[0.005, 0, 0.005], [0.01, 0, 0.01],\n",
    "                 [0.015, 0, 0.015], [0.02, 0, 0.02]]\n",
    "ns = [20, 40, 80, 120]\n",
    "mxs = mzs = [15, 30, 60, 90]\n",
    "dvx = dvz = 3\n",
    "n_cross_checks = [30, 90, 150, 210]  # TODO: this is totally random!!\n",
    "\n",
    "for p in p_error_rates:\n",
    "    for i in range(len(ns)):\n",
    "        trials.append(CPCTrialParams(\n",
    "            ns[i], mxs[i], dvx, mzs[i], dvz, n_cross_checks[i], p, seeds=[0, 1]))\n",
    "\n",
    "random_code_trials(trials, \"../saved_cpc_codes\", \"../eval/random_res.json\")\n"
   ]
  }
 ],
 "metadata": {
  "kernelspec": {
   "display_name": "Python 3",
   "language": "python",
   "name": "python3"
  },
  "language_info": {
   "codemirror_mode": {
    "name": "ipython",
    "version": 3
   },
   "file_extension": ".py",
   "mimetype": "text/x-python",
   "name": "python",
   "nbconvert_exporter": "python",
   "pygments_lexer": "ipython3",
   "version": "3.10.6"
  },
  "orig_nbformat": 4
 },
 "nbformat": 4,
 "nbformat_minor": 2
}
