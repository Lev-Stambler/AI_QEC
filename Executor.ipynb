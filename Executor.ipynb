{
 "cells": [
  {
   "cell_type": "code",
   "execution_count": 1,
   "metadata": {},
   "outputs": [],
   "source": [
    "# !pip install livelossplot -q\n",
    "# !pip install bposd -q\n",
    "# !pip install json -q\n",
    "# !pip install multiprocessing -q\n"
   ]
  },
  {
   "cell_type": "code",
   "execution_count": 2,
   "metadata": {},
   "outputs": [
    {
     "name": "stdout",
     "output_type": "stream",
     "text": [
      "{\"epoch_0\": {\"p_0.015\": 0.653304, \"low_p_best_0.001\": 0.99832, \"low_p_best_0.005\": 0.97638, \"low_p_best_0.01\": 0.89022, \"low_p_best_0.015\": 0.80246}}"
     ]
    }
   ],
   "source": [
    "!cat results.json || echo '{}' >> results.json"
   ]
  },
  {
   "cell_type": "code",
   "execution_count": 3,
   "metadata": {},
   "outputs": [],
   "source": [
    "from livelossplot import PlotLosses\n",
    "from livelossplot.outputs import matplotlib_subplots"
   ]
  },
  {
   "cell_type": "code",
   "execution_count": 4,
   "metadata": {},
   "outputs": [],
   "source": [
    "import os\n",
    "import sys\n",
    "sys.path.append(os.getcwd() + \"/src\")"
   ]
  },
  {
   "cell_type": "code",
   "execution_count": 5,
   "metadata": {},
   "outputs": [
    {
     "name": "stdout",
     "output_type": "stream",
     "text": [
      "Starting data generation\n"
     ]
    },
    {
     "name": "stderr",
     "output_type": "stream",
     "text": [
      "/home/lev/code/research/ai/AI_QEC/src/scoring/score_dataset.py:56: SyntaxWarning: assertion is always true, perhaps remove parentheses?\n",
      "  assert (n_runs // block_size == n_runs / block_size,\n",
      "/home/lev/code/research/ai/AI_QEC/src/scoring/score_dataset.py:56: SyntaxWarning: assertion is always true, perhaps remove parentheses?\n",
      "  assert (n_runs // block_size == n_runs / block_size,\n",
      "/home/lev/code/research/ai/AI_QEC/src/scoring/score_dataset.py:56: SyntaxWarning: assertion is always true, perhaps remove parentheses?\n",
      "  assert (n_runs // block_size == n_runs / block_size,\n",
      "/home/lev/code/research/ai/AI_QEC/src/scoring/score_dataset.py:56: SyntaxWarning: assertion is always true, perhaps remove parentheses?\n",
      "  assert (n_runs // block_size == n_runs / block_size,\n",
      "/home/lev/code/research/ai/AI_QEC/src/scoring/score_dataset.py:56: SyntaxWarning: assertion is always true, perhaps remove parentheses?\n",
      "  assert (n_runs // block_size == n_runs / block_size,\n",
      "/home/lev/code/research/ai/AI_QEC/src/scoring/score_dataset.py:56: SyntaxWarning: assertion is always true, perhaps remove parentheses?\n",
      "  assert (n_runs // block_size == n_runs / block_size,\n",
      "/home/lev/code/research/ai/AI_QEC/src/scoring/score_dataset.py:56: SyntaxWarning: assertion is always true, perhaps remove parentheses?\n",
      "  assert (n_runs // block_size == n_runs / block_size,\n",
      "/home/lev/code/research/ai/AI_QEC/src/scoring/score_dataset.py:56: SyntaxWarning: assertion is always true, perhaps remove parentheses?\n",
      "  assert (n_runs // block_size == n_runs / block_size,\n",
      "/home/lev/code/research/ai/AI_QEC/src/scoring/score_dataset.py:56: SyntaxWarning: assertion is always true, perhaps remove parentheses?\n",
      "  assert (n_runs // block_size == n_runs / block_size,\n",
      "/home/lev/code/research/ai/AI_QEC/src/scoring/score_dataset.py:56: SyntaxWarning: assertion is always true, perhaps remove parentheses?\n",
      "  assert (n_runs // block_size == n_runs / block_size,\n",
      "/home/lev/code/research/ai/AI_QEC/src/scoring/score_dataset.py:56: SyntaxWarning: assertion is always true, perhaps remove parentheses?\n",
      "  assert (n_runs // block_size == n_runs / block_size,\n"
     ]
    },
    {
     "ename": "KeyboardInterrupt",
     "evalue": "",
     "output_type": "error",
     "traceback": [
      "\u001b[0;31m---------------------------------------------------------------------------\u001b[0m",
      "\u001b[0;31mKeyboardInterrupt\u001b[0m                         Traceback (most recent call last)",
      "Cell \u001b[0;32mIn [5], line 3\u001b[0m\n\u001b[1;32m      1\u001b[0m \u001b[39mfrom\u001b[39;00m \u001b[39mtraining\u001b[39;00m \u001b[39mimport\u001b[39;00m main\n\u001b[1;32m      2\u001b[0m loss_plt \u001b[39m=\u001b[39m PlotLosses()\n\u001b[0;32m----> 3\u001b[0m model \u001b[39m=\u001b[39m main(\u001b[39mNone\u001b[39;49;00m, load_saved_scoring_model\u001b[39m=\u001b[39;49m\u001b[39mFalse\u001b[39;49;00m, skip_testing\u001b[39m=\u001b[39;49m\u001b[39mTrue\u001b[39;49;00m)\n",
      "File \u001b[0;32m~/code/research/ai/AI_QEC/src/training.py:86\u001b[0m, in \u001b[0;36mmain\u001b[0;34m(plot_loss, load_saved_scoring_model, load_saved_generating_model, skip_testing)\u001b[0m\n\u001b[1;32m     84\u001b[0m scoring_model \u001b[39m=\u001b[39m \u001b[39mNone\u001b[39;00m\n\u001b[1;32m     85\u001b[0m \u001b[39mif\u001b[39;00m \u001b[39mnot\u001b[39;00m load_saved_scoring_model:\n\u001b[0;32m---> 86\u001b[0m     scoring_model \u001b[39m=\u001b[39m initialize_scoring_model(\n\u001b[1;32m     87\u001b[0m         device, plot_loss, skip_testing\u001b[39m=\u001b[39;49mskip_testing)\n\u001b[1;32m     88\u001b[0m \u001b[39melse\u001b[39;00m:\n\u001b[1;32m     89\u001b[0m     scoring_model \u001b[39m=\u001b[39m torch\u001b[39m.\u001b[39mload(os\u001b[39m.\u001b[39mpath\u001b[39m.\u001b[39mjoin(\n\u001b[1;32m     90\u001b[0m         utils\u001b[39m.\u001b[39mget_best_scoring_model_path()))\n",
      "File \u001b[0;32m~/code/research/ai/AI_QEC/src/training.py:25\u001b[0m, in \u001b[0;36minitialize_scoring_model\u001b[0;34m(device, plot_loss, skip_testing)\u001b[0m\n\u001b[1;32m     22\u001b[0m d_model \u001b[39m=\u001b[39m \u001b[39m32\u001b[39m\n\u001b[1;32m     23\u001b[0m model \u001b[39m=\u001b[39m score_model\u001b[39m.\u001b[39mScoringTransformer(\n\u001b[1;32m     24\u001b[0m     params[\u001b[39m'\u001b[39m\u001b[39mn_data_qubits\u001b[39m\u001b[39m'\u001b[39m], params[\u001b[39m'\u001b[39m\u001b[39mn_check_qubits\u001b[39m\u001b[39m'\u001b[39m], h, d_model, N_dec, device, dropout\u001b[39m=\u001b[39m\u001b[39m0\u001b[39m)\u001b[39m.\u001b[39mto(device)\n\u001b[0;32m---> 25\u001b[0m scoring\u001b[39m.\u001b[39;49mscore_training\u001b[39m.\u001b[39;49mmain_training_loop(\n\u001b[1;32m     26\u001b[0m     \u001b[39m\"\u001b[39;49m\u001b[39minitialization\u001b[39;49m\u001b[39m\"\u001b[39;49m, model, ge, gc, utils\u001b[39m.\u001b[39;49mget_best_scoring_model_path(), params[\u001b[39m'\u001b[39;49m\u001b[39mn_score_training_per_epoch_initial\u001b[39;49m\u001b[39m'\u001b[39;49m], plot_loss, skip_testing\u001b[39m=\u001b[39;49mskip_testing)\n\u001b[1;32m     27\u001b[0m \u001b[39mreturn\u001b[39;00m model\n",
      "File \u001b[0;32m~/code/research/ai/AI_QEC/src/scoring/score_training.py:131\u001b[0m, in \u001b[0;36mmain_training_loop\u001b[0;34m(data_dir_prefix, model, error_prob_sample, random_code_sample, save_path, n_score_training_samples, plot_loss, skip_testing)\u001b[0m\n\u001b[1;32m    128\u001b[0m test_size \u001b[39m=\u001b[39m params[\u001b[39m'\u001b[39m\u001b[39mn_score_testing_samples\u001b[39m\u001b[39m'\u001b[39m]\n\u001b[1;32m    130\u001b[0m \u001b[39m# TODO: scoring data loader...\u001b[39;00m\n\u001b[0;32m--> 131\u001b[0m train_dataloader \u001b[39m=\u001b[39m DataLoader(ScoringDataset(error_prob_sample, random_code_sample, load_save_dir\u001b[39m=\u001b[39;49mget_save_dir(data_dir_prefix), dataset_size\u001b[39m=\u001b[39;49mtrain_size), batch_size\u001b[39m=\u001b[39m\u001b[39mint\u001b[39m(batch_size),\n\u001b[1;32m    132\u001b[0m                               shuffle\u001b[39m=\u001b[39m\u001b[39mTrue\u001b[39;00m, num_workers\u001b[39m=\u001b[39mworkers)\n\u001b[1;32m    133\u001b[0m \u001b[39m# test_dataloader = DataLoader(ScoringDataset(error_prob_sample, random_code_sample, dataset_size=test_size),\u001b[39;00m\n\u001b[1;32m    134\u001b[0m \u001b[39m#                              batch_size=int(test_batch_size), shuffle=False, num_workers=workers)\u001b[39;00m\n\u001b[1;32m    135\u001b[0m \n\u001b[1;32m    136\u001b[0m \u001b[39m#################################\u001b[39;00m\n\u001b[1;32m    137\u001b[0m \u001b[39m# TODO: increase the batch size so loss is a better metric for saving\u001b[39;00m\n\u001b[1;32m    138\u001b[0m best_loss \u001b[39m=\u001b[39m \u001b[39mfloat\u001b[39m(\u001b[39m'\u001b[39m\u001b[39minf\u001b[39m\u001b[39m'\u001b[39m)\n",
      "File \u001b[0;32m~/code/research/ai/AI_QEC/src/scoring/score_dataset.py:95\u001b[0m, in \u001b[0;36mScoringDataset.__init__\u001b[0;34m(self, error_prob_sample, random_code_sample, dataset_size, load_save_dir, item_sample_size)\u001b[0m\n\u001b[1;32m     93\u001b[0m \u001b[39mfor\u001b[39;00m i \u001b[39min\u001b[39;00m \u001b[39mrange\u001b[39m(dataset_size):\n\u001b[1;32m     94\u001b[0m     \u001b[39mif\u001b[39;00m \u001b[39mnot\u001b[39;00m os\u001b[39m.\u001b[39mpath\u001b[39m.\u001b[39mexists(get_data_sample_file(load_save_dir, i)):\n\u001b[0;32m---> 95\u001b[0m         \u001b[39mself\u001b[39;49m\u001b[39m.\u001b[39;49mgenerate_error_file(\n\u001b[1;32m     96\u001b[0m             get_data_sample_file(load_save_dir, i))\n\u001b[1;32m     97\u001b[0m     \u001b[39mif\u001b[39;00m i \u001b[39m%\u001b[39m \u001b[39m1_000\u001b[39m \u001b[39m==\u001b[39m \u001b[39m0\u001b[39m \u001b[39mand\u001b[39;00m i \u001b[39m!=\u001b[39m \u001b[39m0\u001b[39m:\n\u001b[1;32m     98\u001b[0m         \u001b[39mprint\u001b[39m(\u001b[39m\"\u001b[39m\u001b[39mDone generating sample\u001b[39m\u001b[39m\"\u001b[39m, i)\n",
      "File \u001b[0;32m~/code/research/ai/AI_QEC/src/scoring/score_dataset.py:120\u001b[0m, in \u001b[0;36mScoringDataset.generate_error_file\u001b[0;34m(self, file_name)\u001b[0m\n\u001b[1;32m    118\u001b[0m e \u001b[39m=\u001b[39m \u001b[39mself\u001b[39m\u001b[39m.\u001b[39merror_prob()\n\u001b[1;32m    119\u001b[0m cpc_code_pc, bit_adj, phase_adj, check_adj \u001b[39m=\u001b[39m \u001b[39mself\u001b[39m\u001b[39m.\u001b[39mrandom_code()\n\u001b[0;32m--> 120\u001b[0m err_rate \u001b[39m=\u001b[39m \u001b[39mself\u001b[39;49m\u001b[39m.\u001b[39;49mcalculate_error_rate(cpc_code_pc, e)\n\u001b[1;32m    121\u001b[0m dictionary \u001b[39m=\u001b[39m {}\n\u001b[1;32m    122\u001b[0m dictionary[\u001b[39m'\u001b[39m\u001b[39mbit_adj\u001b[39m\u001b[39m'\u001b[39m] \u001b[39m=\u001b[39m bit_adj\n",
      "File \u001b[0;32m~/code/research/ai/AI_QEC/src/scoring/score_dataset.py:115\u001b[0m, in \u001b[0;36mScoringDataset.calculate_error_rate\u001b[0;34m(self, code, error_prob)\u001b[0m\n\u001b[1;32m    114\u001b[0m \u001b[39mdef\u001b[39;00m \u001b[39mcalculate_error_rate\u001b[39m(\u001b[39mself\u001b[39m, code, error_prob):\n\u001b[0;32m--> 115\u001b[0m     \u001b[39mreturn\u001b[39;00m run_decoder(code, \u001b[39mself\u001b[39;49m\u001b[39m.\u001b[39;49mitem_sample_size, error_prob) \u001b[39m/\u001b[39m \u001b[39mself\u001b[39m\u001b[39m.\u001b[39mitem_sample_size\n",
      "File \u001b[0;32m~/code/research/ai/AI_QEC/src/scoring/score_dataset.py:68\u001b[0m, in \u001b[0;36mrun_decoder\u001b[0;34m(pc, n_runs, p_fails, multiproc)\u001b[0m\n\u001b[1;32m     66\u001b[0m     \u001b[39mreturn\u001b[39;00m n_succ\n\u001b[1;32m     67\u001b[0m \u001b[39melse\u001b[39;00m:\n\u001b[0;32m---> 68\u001b[0m     \u001b[39mreturn\u001b[39;00m decode_random((n, rho, pc, n_runs))\n",
      "File \u001b[0;32m~/code/research/ai/AI_QEC/src/scoring/score_dataset.py:41\u001b[0m, in \u001b[0;36mdecode_random\u001b[0;34m(params)\u001b[0m\n\u001b[1;32m     39\u001b[0m     s \u001b[39m+\u001b[39m\u001b[39m=\u001b[39m \u001b[39m1\u001b[39m\n\u001b[1;32m     40\u001b[0m \u001b[39melse\u001b[39;00m:\n\u001b[0;32m---> 41\u001b[0m     eded \u001b[39m=\u001b[39m bpd\u001b[39m.\u001b[39;49mdecode(synd)\n\u001b[1;32m     42\u001b[0m     eq \u001b[39m=\u001b[39m np\u001b[39m.\u001b[39marray_equal(eded, noise)\n\u001b[1;32m     43\u001b[0m     s \u001b[39m+\u001b[39m\u001b[39m=\u001b[39m \u001b[39mint\u001b[39m(eq)\n",
      "\u001b[0;31mKeyboardInterrupt\u001b[0m: "
     ]
    }
   ],
   "source": [
    "from training import main\n",
    "loss_plt = PlotLosses()\n",
    "model = main(None, load_saved_scoring_model=False, skip_testing=True)"
   ]
  },
  {
   "cell_type": "code",
   "execution_count": null,
   "metadata": {},
   "outputs": [
    {
     "name": "stdout",
     "output_type": "stream",
     "text": [
      "15262/20000: 0.7631\n"
     ]
    }
   ],
   "source": [
    "# import code_evaluation\n",
    "# import numpy as np\n",
    "# from global_params import params\n",
    "\n",
    "# e = np.ones(((params['n_data_qubits'] + params['n_check_qubits']) * 2)) * 0.01\n",
    "# code_evaluation.main(e)"
   ]
  }
 ],
 "metadata": {
  "kernelspec": {
   "display_name": "Python 3",
   "language": "python",
   "name": "python3"
  },
  "language_info": {
   "codemirror_mode": {
    "name": "ipython",
    "version": 3
   },
   "file_extension": ".py",
   "mimetype": "text/x-python",
   "name": "python",
   "nbconvert_exporter": "python",
   "pygments_lexer": "ipython3",
   "version": "3.10.6"
  },
  "orig_nbformat": 4,
  "vscode": {
   "interpreter": {
    "hash": "916dbcbb3f70747c44a77c7bcd40155683ae19c65e1c03b4aa3499c5328201f1"
   }
  }
 },
 "nbformat": 4,
 "nbformat_minor": 2
}
