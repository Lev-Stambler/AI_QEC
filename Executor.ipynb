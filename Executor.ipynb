{
 "cells": [
  {
   "cell_type": "code",
   "execution_count": 1,
   "metadata": {},
   "outputs": [],
   "source": [
    "# !pip install livelossplot -q\n",
    "# !pip install bposd -q\n",
    "# !pip install json -q\n",
    "# !pip install multiprocessing -q\n"
   ]
  },
  {
   "cell_type": "code",
   "execution_count": 2,
   "metadata": {},
   "outputs": [
    {
     "name": "stdout",
     "output_type": "stream",
     "text": [
      "{}\n"
     ]
    }
   ],
   "source": [
    "!cat results.json || echo '{}' >> results.json"
   ]
  },
  {
   "cell_type": "code",
   "execution_count": 3,
   "metadata": {},
   "outputs": [],
   "source": [
    "from livelossplot import PlotLosses\n",
    "from livelossplot.outputs import matplotlib_subplots"
   ]
  },
  {
   "cell_type": "code",
   "execution_count": 4,
   "metadata": {},
   "outputs": [],
   "source": [
    "import os\n",
    "import sys\n",
    "sys.path.append(os.getcwd() + \"/src\")"
   ]
  },
  {
   "cell_type": "code",
   "execution_count": 5,
   "metadata": {},
   "outputs": [
    {
     "name": "stdout",
     "output_type": "stream",
     "text": [
      "Starting to evaluate performance for epoch 0 with file eval/results_(31,11).json\n",
      "aff3ct --sim-cde-type LDPC --chn-type BSC --enc-cw-size 102 --enc-info-bits 82 --enc-type LDPC_H --dec-h-path build/tmp_code.alist --dec-type BP_FLOODING --dec-implem AMS --dec-ite 10 --sim-noise-type EP --sim-noise-range '0.001,0.001,0.001,0.001,0.001,0.001,0.001,0.001,0.001,0.001,0.001,0.001,0.001,0.001,0.001,0.001,0.001,0.001,0.001,0.001,0.001,0.001,0.001,0.001,0.001,0.001,0.001,0.001,0.001,0.001,0.001,0.001,0.001,0.001,0.001,0.001,0.001,0.001,0.001,0.001,0.001,0.001,0.001,0.001,0.001,0.001,0.001,0.001,0.001,0.001,0.001,0.001,0.001,0.001,0.001,0.001,0.001,0.001,0.001,0.001,0.001,0.001,0.001,0.001,0.001,0.001,0.001,0.001,0.001,0.001,0.001,0.001,0.001,0.001,0.001,0.001,0.001,0.001,0.001,0.001,0.001,0.001,0.001,0.001,0.001,0.001,0.001,0.001,0.001,0.001,0.001,0.001,0.001,0.001,0.001,0.001,0.001,0.001,0.001,0.001,0.001,0.001' --mdm-type OOK\n",
      "# ----------------------------------------------------\n",
      "# ---- A FAST FORWARD ERROR CORRECTION TOOLBOX >> ----\n",
      "# ----------------------------------------------------\n",
      "# Parameters:\n",
      "# * Simulation ------------------------------------\n",
      "#    ** Type                      = BFER\n",
      "#    ** Type of bits              = int32\n",
      "#    ** Type of reals             = float32\n",
      "#    ** Date (UTC)                = 2023-02-07 15:46:26\n",
      "#    ** Git version               = v3.0.2\n",
      "#    ** Code type (C)             = LDPC\n",
      "#    ** Noise range               = 0.001 -> 0.001 dB\n",
      "#    ** Noise type (E)            = EP\n",
      "#    ** Seed                      = 0\n",
      "#    ** Statistics                = off\n",
      "#    ** Debug mode                = off\n",
      "#    ** Inter frame level         = 1\n",
      "#    ** Multi-threading (t)       = 16 thread(s)\n",
      "#    ** Coset approach (c)        = no\n",
      "#    ** Coded monitoring          = no\n",
      "#    ** Bad frames tracking       = off\n",
      "#    ** Bad frames replay         = off\n",
      "#    ** Bit rate                  = 0.803922 (41/51)\n",
      "# * Source ----------------------------------------\n",
      "#    ** Type                      = RAND\n",
      "#    ** Implementation            = STD\n",
      "#    ** Info. bits (K_info)       = 82\n",
      "# * Codec -----------------------------------------\n",
      "#    ** Type                      = LDPC\n",
      "#    ** Info. bits (K)            = 82\n",
      "#    ** Codeword size (N_cw)      = 102\n",
      "#    ** Frame size (N)            = 102\n",
      "#    ** Code rate                 = 0.803922 (41/51)\n",
      "# * Encoder ---------------------------------------\n",
      "#    ** Type                      = LDPC_H\n",
      "#    ** Systematic                = yes\n",
      "#    ** H matrix path             = build/tmp_code.alist\n",
      "#    ** H matrix reordering       = NONE\n",
      "#    ** G build method            = IDENTITY\n",
      "# * Decoder ---------------------------------------\n",
      "#    ** Type (D)                  = BP_FLOODING\n",
      "#    ** Implementation            = AMS\n",
      "#    ** Systematic                = yes\n",
      "#    ** H matrix path             = build/tmp_code.alist\n",
      "#    ** H matrix reordering       = NONE\n",
      "#    ** Num. of iterations (i)    = 10\n",
      "#    ** Stop criterion (syndrome) = on\n",
      "#    ** Stop criterion depth      = 1\n",
      "#    ** Min type                  = MINL\n",
      "# * Modem -----------------------------------------\n",
      "#    ** Type                      = OOK\n",
      "#    ** Implementation            = STD\n",
      "#    ** Bits per symbol           = 1\n",
      "#    ** Sigma square              = on\n",
      "# * Channel ---------------------------------------\n",
      "#    ** Type                      = BSC\n",
      "#    ** Implementation            = STD\n",
      "#    ** Complex                   = off\n",
      "#    ** Add users                 = off\n",
      "# * Monitor ---------------------------------------\n",
      "#    ** Lazy reduction            = off\n",
      "#    ** Frame error count (e)     = 100\n",
      "#    ** Compute mutual info       = no\n",
      "# * Terminal --------------------------------------\n",
      "#    ** Enabled                   = yes\n",
      "#    ** Frequency (ms)            = 500\n",
      "# \n",
      "# The simulation is running...\n",
      "# -----------------||------------------------------------------------------||---------------------\n",
      "# Event Probability||   Bit Error Rate (BER) and Frame Error Rate (FER)    ||  Global throughput  \n",
      "#       (EP)       ||                                                      ||  and elapsed time   \n",
      "# -----------------||------------------------------------------------------||---------------------\n",
      "# -----------------||----------|----------|----------|----------|----------||----------|----------\n",
      "#               EP ||      FRA |       BE |       FE |      BER |      FER ||  SIM_THR |    ET/RT \n",
      "#                  ||          |          |          |          |          ||   (Mb/s) | (hhmmss) \n",
      "# -----------------||----------|----------|----------|----------|----------||----------|----------\n",
      "            0.0010 ||     5894 |      200 |      100 | 4.14e-04 | 1.70e-02 ||   44.577 | 00h00'00   \n",
      "# End of the simulation.\n"
     ]
    },
    {
     "ename": "TypeError",
     "evalue": "'>' not supported between instances of 'NoneType' and 'float'",
     "output_type": "error",
     "traceback": [
      "\u001b[0;31m---------------------------------------------------------------------------\u001b[0m",
      "\u001b[0;31mTypeError\u001b[0m                                 Traceback (most recent call last)",
      "Cell \u001b[0;32mIn [5], line 3\u001b[0m\n\u001b[1;32m      1\u001b[0m \u001b[39mfrom\u001b[39;00m \u001b[39mtraining\u001b[39;00m \u001b[39mimport\u001b[39;00m main\n\u001b[1;32m      2\u001b[0m loss_plt \u001b[39m=\u001b[39m PlotLosses() \n\u001b[0;32m----> 3\u001b[0m model \u001b[39m=\u001b[39m main(loss_plt, load_saved_scoring_model\u001b[39m=\u001b[39;49m\u001b[39mTrue\u001b[39;49;00m,\n\u001b[1;32m      4\u001b[0m              skip_initialization_training\u001b[39m=\u001b[39;49m\u001b[39mTrue\u001b[39;49;00m, skip_eval\u001b[39m=\u001b[39;49m\u001b[39mFalse\u001b[39;49;00m, initialize_epoch_start\u001b[39m=\u001b[39;49m\u001b[39m2\u001b[39;49m)\n",
      "File \u001b[0;32m~/code/research/ai/AI_QEC/src/training.py:111\u001b[0m, in \u001b[0;36mmain\u001b[0;34m(plot_loss, load_saved_scoring_model, load_saved_generating_model, skip_initialization_training, skip_eval, initialize_epoch_start)\u001b[0m\n\u001b[1;32m    109\u001b[0m \u001b[39mfor\u001b[39;00m genetic_epoch \u001b[39min\u001b[39;00m \u001b[39mrange\u001b[39m(params[\u001b[39m'\u001b[39m\u001b[39mn_genetic_epochs\u001b[39m\u001b[39m'\u001b[39m]):\n\u001b[1;32m    110\u001b[0m     \u001b[39mif\u001b[39;00m \u001b[39mnot\u001b[39;00m skip_eval:\n\u001b[0;32m--> 111\u001b[0m         evaluate_performance(scoring_model, generating_model, p_eval_range, genetic_epoch, \u001b[39mTrue\u001b[39;49;00m \u001b[39mand\u001b[39;49;00m initialize_epoch_start \u001b[39m==\u001b[39;49m \u001b[39m1\u001b[39;49m)\n\u001b[1;32m    112\u001b[0m     \u001b[39mprint\u001b[39m(\u001b[39mf\u001b[39m\u001b[39m\"\u001b[39m\u001b[39mStarting epoch #\u001b[39m\u001b[39m{\u001b[39;00mgenetic_epoch \u001b[39m+\u001b[39m \u001b[39m1\u001b[39m\u001b[39m}\u001b[39;00m\u001b[39m\"\u001b[39m)\n\u001b[1;32m    113\u001b[0m     scoring_copied \u001b[39m=\u001b[39m copy\u001b[39m.\u001b[39mdeepcopy(scoring_model)\n",
      "File \u001b[0;32m~/code/research/ai/AI_QEC/src/training.py:54\u001b[0m, in \u001b[0;36mevaluate_performance\u001b[0;34m(scoring_model, gen_model, low_p, epoch, is_init_epoch, n_tests, averaging_samples, eval_file)\u001b[0m\n\u001b[1;32m     51\u001b[0m pc, _, _, _ \u001b[39m=\u001b[39m gen_model\u001b[39m.\u001b[39mgenerate_sample(\n\u001b[1;32m     52\u001b[0m     scoring_model, err, mutate\u001b[39m=\u001b[39m\u001b[39mFalse\u001b[39;00m)\n\u001b[1;32m     53\u001b[0m r \u001b[39m=\u001b[39m run_decoder(pc, n_tests, err, multiproc\u001b[39m=\u001b[39m\u001b[39mFalse\u001b[39;00m)\n\u001b[0;32m---> 54\u001b[0m \u001b[39mif\u001b[39;00m r \u001b[39m>\u001b[39;49m best_low_p_succ_rate[i]:\n\u001b[1;32m     55\u001b[0m     best_low_p_succ_rate[i] \u001b[39m=\u001b[39m r\n\u001b[1;32m     56\u001b[0m     best_low_p_pcs \u001b[39m=\u001b[39m pc\n",
      "\u001b[0;31mTypeError\u001b[0m: '>' not supported between instances of 'NoneType' and 'float'"
     ]
    }
   ],
   "source": [
    "from training import main\n",
    "loss_plt = PlotLosses() \n",
    "model = main(loss_plt, load_saved_scoring_model=True,\n",
    "             skip_initialization_training=True, skip_eval=False, initialize_epoch_start=2)\n"
   ]
  },
  {
   "cell_type": "code",
   "execution_count": null,
   "metadata": {},
   "outputs": [
    {
     "name": "stdout",
     "output_type": "stream",
     "text": [
      "15262/20000: 0.7631\n"
     ]
    }
   ],
   "source": [
    "# import code_evaluation\n",
    "# import numpy as np\n",
    "# from global_params import params\n",
    "\n",
    "# e = np.ones(((params['n_data_qubits'] + params['n_check_qubits']) * 2)) * 0.01\n",
    "# code_evaluation.main(e)"
   ]
  }
 ],
 "metadata": {
  "kernelspec": {
   "display_name": "Python 3",
   "language": "python",
   "name": "python3"
  },
  "language_info": {
   "codemirror_mode": {
    "name": "ipython",
    "version": 3
   },
   "file_extension": ".py",
   "mimetype": "text/x-python",
   "name": "python",
   "nbconvert_exporter": "python",
   "pygments_lexer": "ipython3",
   "version": "3.10.6"
  },
  "orig_nbformat": 4,
  "vscode": {
   "interpreter": {
    "hash": "916dbcbb3f70747c44a77c7bcd40155683ae19c65e1c03b4aa3499c5328201f1"
   }
  }
 },
 "nbformat": 4,
 "nbformat_minor": 2
}
