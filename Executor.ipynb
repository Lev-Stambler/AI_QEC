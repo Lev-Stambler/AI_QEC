{
 "cells": [
  {
   "cell_type": "code",
   "execution_count": 1,
   "metadata": {},
   "outputs": [],
   "source": [
    "# !pip install livelossplot -q\n",
    "# !pip install bposd -q\n",
    "# !pip install json -q\n",
    "# !pip install multiprocessing -q\n"
   ]
  },
  {
   "cell_type": "code",
   "execution_count": 2,
   "metadata": {},
   "outputs": [
    {
     "name": "stdout",
     "output_type": "stream",
     "text": [
      "{\"epoch_0\": {\"p_0.015\": 0.653304, \"low_p_best_0.001\": 0.99832, \"low_p_best_0.005\": 0.97638, \"low_p_best_0.01\": 0.89022, \"low_p_best_0.015\": 0.80246}}"
     ]
    }
   ],
   "source": [
    "!cat results.json || echo '{}' >> results.json"
   ]
  },
  {
   "cell_type": "code",
   "execution_count": 3,
   "metadata": {},
   "outputs": [],
   "source": [
    "from livelossplot import PlotLosses\n",
    "from livelossplot.outputs import matplotlib_subplots"
   ]
  },
  {
   "cell_type": "code",
   "execution_count": 4,
   "metadata": {},
   "outputs": [],
   "source": [
    "import os\n",
    "import sys\n",
    "sys.path.append(os.getcwd() + \"/src\")"
   ]
  },
  {
   "cell_type": "code",
   "execution_count": 5,
   "metadata": {},
   "outputs": [
    {
     "name": "stdout",
     "output_type": "stream",
     "text": [
      "Starting data generation\n"
     ]
    }
   ],
   "source": [
    "from training import main\n",
    "loss_plt = PlotLosses()\n",
    "model = main(None, load_saved_scoring_model=False, skip_testing=True)"
   ]
  },
  {
   "cell_type": "code",
   "execution_count": null,
   "metadata": {},
   "outputs": [
    {
     "name": "stdout",
     "output_type": "stream",
     "text": [
      "15262/20000: 0.7631\n"
     ]
    }
   ],
   "source": [
    "# import code_evaluation\n",
    "# import numpy as np\n",
    "# from global_params import params\n",
    "\n",
    "# e = np.ones(((params['n_data_qubits'] + params['n_check_qubits']) * 2)) * 0.01\n",
    "# code_evaluation.main(e)"
   ]
  }
 ],
 "metadata": {
  "kernelspec": {
   "display_name": "Python 3",
   "language": "python",
   "name": "python3"
  },
  "language_info": {
   "codemirror_mode": {
    "name": "ipython",
    "version": 3
   },
   "file_extension": ".py",
   "mimetype": "text/x-python",
   "name": "python",
   "nbconvert_exporter": "python",
   "pygments_lexer": "ipython3",
   "version": "3.10.6"
  },
  "orig_nbformat": 4,
  "vscode": {
   "interpreter": {
    "hash": "916dbcbb3f70747c44a77c7bcd40155683ae19c65e1c03b4aa3499c5328201f1"
   }
  }
 },
 "nbformat": 4,
 "nbformat_minor": 2
}
