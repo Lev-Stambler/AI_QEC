{
 "cells": [
  {
   "cell_type": "code",
   "execution_count": 1,
   "metadata": {},
   "outputs": [],
   "source": [
    "# !pip install livelossplot -q\n",
    "# !pip install bposd -q\n",
    "# !pip install json -q"
   ]
  },
  {
   "cell_type": "code",
   "execution_count": 2,
   "metadata": {},
   "outputs": [],
   "source": [
    "import os\n",
    "import sys\n",
    "sys.path.append(os.getcwd() + \"/src\")"
   ]
  },
  {
   "attachments": {},
   "cell_type": "markdown",
   "metadata": {},
   "source": [
    "## Benchmark random CPC codes"
   ]
  },
  {
   "cell_type": "code",
   "execution_count": 7,
   "metadata": {},
   "outputs": [
    {
     "name": "stdout",
     "output_type": "stream",
     "text": [
      "WRITING {'random_cpc': {'error_rate_0.001': 0.99803, 'error_rate_0.005': 0.99785, 'error_rate_0.01': 0.99789, 'error_rate_0.015': 0.99783}}\n"
     ]
    }
   ],
   "source": [
    "from scoring.score_dataset import run_decoder\n",
    "import json\n",
    "from global_params import params\n",
    "from CPC import generate_random\n",
    "import numpy as np\n",
    "import utils\n",
    "\n",
    "error_rates = params['eval_p_range']\n",
    "n_samples = 5\n",
    "best_word_succ_rates = [0.0] * len(error_rates)\n",
    "\n",
    "for i, e in enumerate(error_rates):\n",
    "\tfor _ in range(n_samples):\n",
    "\t\tpc, _, _, _ = generate_random.random_cpc()\n",
    "\t\twsr = run_decoder(pc, 100_000, np.ones(pc.shape[-1]) * 0.001)\n",
    "\t\tif wsr > best_word_succ_rates[i]:\n",
    "\t\t\tbest_word_succ_rates[i] = wsr\n",
    "\n",
    "out_json = {'random_cpc': {}}\n",
    "for i, r in enumerate(best_word_succ_rates):\n",
    "\tout_json['random_cpc'][f\"error_rate_{error_rates[i]}\"] = r\n",
    "\n",
    "\n",
    "with open(utils.get_eval_baseline_path(), \"w\") as outfile:\n",
    "    print(\"WRITING\", out_json)\n",
    "    json.dump(out_json, outfile, cls=utils.NpEncoder)"
   ]
  }
 ],
 "metadata": {
  "kernelspec": {
   "display_name": "Python 3",
   "language": "python",
   "name": "python3"
  },
  "language_info": {
   "codemirror_mode": {
    "name": "ipython",
    "version": 3
   },
   "file_extension": ".py",
   "mimetype": "text/x-python",
   "name": "python",
   "nbconvert_exporter": "python",
   "pygments_lexer": "ipython3",
   "version": "3.10.6"
  },
  "orig_nbformat": 4,
  "vscode": {
   "interpreter": {
    "hash": "916dbcbb3f70747c44a77c7bcd40155683ae19c65e1c03b4aa3499c5328201f1"
   }
  }
 },
 "nbformat": 4,
 "nbformat_minor": 2
}
