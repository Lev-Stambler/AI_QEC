{
 "cells": [
  {
   "cell_type": "code",
   "execution_count": 5,
   "metadata": {},
   "outputs": [],
   "source": [
    "# !pip install livelossplot -q\n",
    "# !pip install bposd -q\n",
    "# !pip install json -q"
   ]
  },
  {
   "cell_type": "code",
   "execution_count": 6,
   "metadata": {},
   "outputs": [],
   "source": [
    "import os\n",
    "import sys\n",
    "sys.path.append(os.getcwd() + \"/src\")"
   ]
  },
  {
   "attachments": {},
   "cell_type": "markdown",
   "metadata": {},
   "source": [
    "## Benchmark random CPC codes"
   ]
  },
  {
   "cell_type": "code",
   "execution_count": 7,
   "metadata": {},
   "outputs": [
    {
     "name": "stdout",
     "output_type": "stream",
     "text": [
      "WRITING {'random_cpc': {'error_rate_0.001': 0.998, 'error_rate_0.001_pc': 0.998, 'error_rate_0.005': 0.99804, 'error_rate_0.005_pc': 0.99804, 'error_rate_0.01': 0.99781, 'error_rate_0.01_pc': 0.99781, 'error_rate_0.015': 0.99786, 'error_rate_0.015_pc': 0.99786}}\n"
     ]
    }
   ],
   "source": [
    "from scoring.score_dataset import run_decoder\n",
    "import json\n",
    "from global_params import params\n",
    "from CPC import generate_random\n",
    "import numpy as np\n",
    "import utils\n",
    "\n",
    "error_rates = params['eval_p_range']\n",
    "n_samples = 100\n",
    "best_word_succ_rates = [0.0] * len(error_rates)\n",
    "best_pc = [[]] * len(error_rates)\n",
    "\n",
    "for i, e in enumerate(error_rates):\n",
    "\tfor _ in range(n_samples):\n",
    "\t\tpc, _, _, _ = generate_random.random_cpc()\n",
    "\t\twsr = run_decoder(pc, 100_000, np.ones(pc.shape[-1]) * 0.001)\n",
    "\t\tif wsr > best_word_succ_rates[i]:\n",
    "\t\t\tbest_word_succ_rates[i] = wsr\n",
    "\t\t\tbest_pc[i] = pc\n",
    "\n",
    "out_json = {'random_cpc': {}}\n",
    "for i, r in enumerate(best_word_succ_rates):\n",
    "\tout_json['random_cpc'][f\"error_rate_{error_rates[i]}\"] = r\n",
    "\tout_json['random_cpc'][f\"error_rate_{error_rates[i]}_pc\"] = best_word_succ_rates[i]\n",
    "\n",
    "\n",
    "with open(utils.get_eval_baseline_path(), \"w\") as outfile:\n",
    "    print(\"WRITING\", out_json)\n",
    "    json.dump(out_json, outfile, cls=utils.NpEncoder)"
   ]
  },
  {
   "cell_type": "code",
   "execution_count": null,
   "metadata": {},
   "outputs": [],
   "source": []
  },
  {
   "attachments": {},
   "cell_type": "markdown",
   "metadata": {},
   "source": [
    "## Benchmark AI learned codes"
   ]
  },
  {
   "cell_type": "code",
   "execution_count": null,
   "metadata": {},
   "outputs": [],
   "source": [
    "from training import evaluate_performance\n",
    "from generating import generating_model as gen_model\n",
    "import torch\n",
    "\n",
    "device = torch.device(\"cuda\" if torch.cuda.is_available() else \"cpu\")\n",
    "scoring_model = torch.load(os.path.join(\n",
    "    utils.get_best_scoring_model_path()))\n",
    "\n",
    "generating_model = gen_model.GeneratingModel(\n",
    "    device=device,\n",
    "    p_skip_mutation=params['p_skip_mutation'],\n",
    "    p_random_mutation=params['p_random_mutation'],\n",
    ")\n",
    "\n",
    "p_eval_range = params['eval_p_range']\n",
    "evaluate_performance(scoring_model, generating_model, p_eval_range, [\n",
    "                     0.001, 0.005, 0.01], \"baseline_eval\", False, n_tests=1_000_000)"
   ]
  }
 ],
 "metadata": {
  "kernelspec": {
   "display_name": "Python 3",
   "language": "python",
   "name": "python3"
  },
  "language_info": {
   "codemirror_mode": {
    "name": "ipython",
    "version": 3
   },
   "file_extension": ".py",
   "mimetype": "text/x-python",
   "name": "python",
   "nbconvert_exporter": "python",
   "pygments_lexer": "ipython3",
   "version": "3.10.6 (main, Nov 14 2022, 16:10:14) [GCC 11.3.0]"
  },
  "orig_nbformat": 4,
  "vscode": {
   "interpreter": {
    "hash": "916dbcbb3f70747c44a77c7bcd40155683ae19c65e1c03b4aa3499c5328201f1"
   }
  }
 },
 "nbformat": 4,
 "nbformat_minor": 2
}
