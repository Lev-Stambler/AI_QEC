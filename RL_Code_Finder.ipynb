{
 "cells": [
  {
   "cell_type": "code",
   "execution_count": 1,
   "metadata": {},
   "outputs": [],
   "source": [
    "!pip install stable_baselines3[extra] -q\n",
    "!pip install pyglet==1.5.27 -q\n",
    "!pip install -U bposd -q"
   ]
  },
  {
   "cell_type": "code",
   "execution_count": 2,
   "metadata": {},
   "outputs": [],
   "source": [
    "# Append the common library for CPC codes\n",
    "import os\n",
    "import sys\n",
    "# TODO: lets do something better here like refactor the common parts and different learning mech parts\n",
    "sys.path.append(os.getcwd() + \"/src\")"
   ]
  },
  {
   "attachments": {},
   "cell_type": "markdown",
   "metadata": {},
   "source": [
    "## Setup the RL Env"
   ]
  },
  {
   "cell_type": "code",
   "execution_count": 3,
   "metadata": {},
   "outputs": [
    {
     "name": "stderr",
     "output_type": "stream",
     "text": [
      "            0.0020 ||   388124 |    12562 |     8127 | 3.95e-04 | 2.09e-02 ||   63.592 | 00h00'00  *\r"
     ]
    },
    {
     "name": "stdout",
     "output_type": "stream",
     "text": [
      "aff3ct --sim-cde-type LDPC --chn-type BSC --enc-cw-size 102 --enc-info-bits 82 --enc-type LDPC_H --dec-h-path build/tmp_code.alist --dec-type BP_FLOODING --dec-implem AMS --dec-ite 10 --sim-noise-type EP --sim-noise-range '0.002,0.002,0.002,0.002,0.002,0.002,0.002,0.002,0.002,0.002,0.002,0.002,0.002,0.002,0.002,0.002,0.002,0.002,0.002,0.002,0.002,0.002,0.002,0.002,0.002,0.002,0.002,0.002,0.002,0.002,0.002,0.002,0.002,0.002,0.002,0.002,0.002,0.002,0.002,0.002,0.002,0.002,0.002,0.002,0.002,0.002,0.002,0.002,0.002,0.002,0.002' --mdm-type OOK --mnt-max-fe 10000 > build/tmp_out.txt\n"
     ]
    },
    {
     "name": "stderr",
     "output_type": "stream",
     "text": [
      "            0.0020 ||   394404 |    12901 |     8275 | 3.99e-04 | 2.10e-02 ||   64.631 | 00h00'00  *\r"
     ]
    },
    {
     "name": "stdout",
     "output_type": "stream",
     "text": [
      "aff3ct --sim-cde-type LDPC --chn-type BSC --enc-cw-size 102 --enc-info-bits 82 --enc-type LDPC_H --dec-h-path build/tmp_code.alist --dec-type BP_FLOODING --dec-implem AMS --dec-ite 10 --sim-noise-type EP --sim-noise-range '0.002,0.002,0.002,0.002,0.002,0.002,0.002,0.002,0.002,0.002,0.002,0.002,0.002,0.002,0.002,0.002,0.002,0.002,0.002,0.002,0.002,0.002,0.002,0.002,0.002,0.002,0.002,0.002,0.002,0.002,0.002,0.002,0.002,0.002,0.002,0.002,0.002,0.002,0.002,0.002,0.002,0.002,0.002,0.002,0.002,0.002,0.002,0.002,0.002,0.002,0.002' --mdm-type OOK --mnt-max-fe 10000 > build/tmp_out.txt\n"
     ]
    },
    {
     "name": "stderr",
     "output_type": "stream",
     "text": [
      "            0.0020 ||   394590 |    12599 |     8196 | 3.89e-04 | 2.08e-02 ||   64.667 | 00h00'00  *\r"
     ]
    },
    {
     "name": "stdout",
     "output_type": "stream",
     "text": [
      "aff3ct --sim-cde-type LDPC --chn-type BSC --enc-cw-size 102 --enc-info-bits 82 --enc-type LDPC_H --dec-h-path build/tmp_code.alist --dec-type BP_FLOODING --dec-implem AMS --dec-ite 10 --sim-noise-type EP --sim-noise-range '0.002,0.002,0.002,0.002,0.002,0.002,0.002,0.002,0.002,0.002,0.002,0.002,0.002,0.002,0.002,0.002,0.002,0.002,0.002,0.002,0.002,0.002,0.002,0.002,0.002,0.002,0.002,0.002,0.002,0.002,0.002,0.002,0.002,0.002,0.002,0.002,0.002,0.002,0.002,0.002,0.002,0.002,0.002,0.002,0.002,0.002,0.002,0.002,0.002,0.002,0.002' --mdm-type OOK --mnt-max-fe 10000 > build/tmp_out.txt\n"
     ]
    },
    {
     "name": "stderr",
     "output_type": "stream",
     "text": [
      "            0.0020 ||   414077 |    13363 |     8533 | 3.94e-04 | 2.06e-02 ||   67.864 | 00h00'00  *\r"
     ]
    },
    {
     "name": "stdout",
     "output_type": "stream",
     "text": [
      "aff3ct --sim-cde-type LDPC --chn-type BSC --enc-cw-size 102 --enc-info-bits 82 --enc-type LDPC_H --dec-h-path build/tmp_code.alist --dec-type BP_FLOODING --dec-implem AMS --dec-ite 10 --sim-noise-type EP --sim-noise-range '0.002,0.002,0.002,0.002,0.002,0.002,0.002,0.002,0.002,0.002,0.002,0.002,0.002,0.002,0.002,0.002,0.002,0.002,0.002,0.002,0.002,0.002,0.002,0.002,0.002,0.002,0.002,0.002,0.002,0.002,0.002,0.002,0.002,0.002,0.002,0.002,0.002,0.002,0.002,0.002,0.002,0.002,0.002,0.002,0.002,0.002,0.002,0.002,0.002,0.002,0.002' --mdm-type OOK --mnt-max-fe 10000 > build/tmp_out.txt\n"
     ]
    },
    {
     "name": "stderr",
     "output_type": "stream",
     "text": [
      "            0.0020 ||   402988 |    12956 |     8312 | 3.92e-04 | 2.06e-02 ||   66.042 | 00h00'00  *\r"
     ]
    },
    {
     "name": "stdout",
     "output_type": "stream",
     "text": [
      "aff3ct --sim-cde-type LDPC --chn-type BSC --enc-cw-size 102 --enc-info-bits 82 --enc-type LDPC_H --dec-h-path build/tmp_code.alist --dec-type BP_FLOODING --dec-implem AMS --dec-ite 10 --sim-noise-type EP --sim-noise-range '0.002,0.002,0.002,0.002,0.002,0.002,0.002,0.002,0.002,0.002,0.002,0.002,0.002,0.002,0.002,0.002,0.002,0.002,0.002,0.002,0.002,0.002,0.002,0.002,0.002,0.002,0.002,0.002,0.002,0.002,0.002,0.002,0.002,0.002,0.002,0.002,0.002,0.002,0.002,0.002,0.002,0.002,0.002,0.002,0.002,0.002,0.002,0.002,0.002,0.002,0.002' --mdm-type OOK --mnt-max-fe 10000 > build/tmp_out.txt\n"
     ]
    },
    {
     "name": "stderr",
     "output_type": "stream",
     "text": [
      "            0.0020 ||   405809 |    13210 |     8466 | 3.97e-04 | 2.09e-02 ||   66.440 | 00h00'00  *\r"
     ]
    },
    {
     "name": "stdout",
     "output_type": "stream",
     "text": [
      "aff3ct --sim-cde-type LDPC --chn-type BSC --enc-cw-size 102 --enc-info-bits 82 --enc-type LDPC_H --dec-h-path build/tmp_code.alist --dec-type BP_FLOODING --dec-implem AMS --dec-ite 10 --sim-noise-type EP --sim-noise-range '0.002,0.002,0.002,0.002,0.002,0.002,0.002,0.002,0.002,0.002,0.002,0.002,0.002,0.002,0.002,0.002,0.002,0.002,0.002,0.002,0.002,0.002,0.002,0.002,0.002,0.002,0.002,0.002,0.002,0.002,0.002,0.002,0.002,0.002,0.002,0.002,0.002,0.002,0.002,0.002,0.002,0.002,0.002,0.002,0.002,0.002,0.002,0.002,0.002,0.002,0.002' --mdm-type OOK --mnt-max-fe 10000 > build/tmp_out.txt\n"
     ]
    },
    {
     "name": "stderr",
     "output_type": "stream",
     "text": [
      "            0.0020 ||   405913 |    17761 |     9238 | 5.34e-04 | 2.28e-02 ||   66.521 | 00h00'00  *\r"
     ]
    },
    {
     "name": "stdout",
     "output_type": "stream",
     "text": [
      "aff3ct --sim-cde-type LDPC --chn-type BSC --enc-cw-size 102 --enc-info-bits 82 --enc-type LDPC_H --dec-h-path build/tmp_code.alist --dec-type BP_FLOODING --dec-implem AMS --dec-ite 10 --sim-noise-type EP --sim-noise-range '0.002,0.002,0.002,0.002,0.002,0.002,0.002,0.002,0.002,0.002,0.002,0.002,0.002,0.002,0.002,0.002,0.002,0.002,0.002,0.002,0.002,0.002,0.002,0.002,0.002,0.002,0.002,0.002,0.002,0.002,0.002,0.002,0.002,0.002,0.002,0.002,0.002,0.002,0.002,0.002,0.002,0.002,0.002,0.002,0.002,0.002,0.002,0.002,0.002,0.002,0.002' --mdm-type OOK --mnt-max-fe 10000 > build/tmp_out.txt\n"
     ]
    },
    {
     "name": "stderr",
     "output_type": "stream",
     "text": [
      "            0.0020 ||   364014 |    11922 |     7624 | 3.99e-04 | 2.09e-02 ||   59.653 | 00h00'00  *\r"
     ]
    },
    {
     "name": "stdout",
     "output_type": "stream",
     "text": [
      "aff3ct --sim-cde-type LDPC --chn-type BSC --enc-cw-size 102 --enc-info-bits 82 --enc-type LDPC_H --dec-h-path build/tmp_code.alist --dec-type BP_FLOODING --dec-implem AMS --dec-ite 10 --sim-noise-type EP --sim-noise-range '0.002,0.002,0.002,0.002,0.002,0.002,0.002,0.002,0.002,0.002,0.002,0.002,0.002,0.002,0.002,0.002,0.002,0.002,0.002,0.002,0.002,0.002,0.002,0.002,0.002,0.002,0.002,0.002,0.002,0.002,0.002,0.002,0.002,0.002,0.002,0.002,0.002,0.002,0.002,0.002,0.002,0.002,0.002,0.002,0.002,0.002,0.002,0.002,0.002,0.002,0.002' --mdm-type OOK --mnt-max-fe 10000 > build/tmp_out.txt\n"
     ]
    },
    {
     "name": "stderr",
     "output_type": "stream",
     "text": [
      "            0.0020 ||   366248 |    11933 |     7653 | 3.97e-04 | 2.09e-02 ||   59.805 | 00h00'00  *\r"
     ]
    },
    {
     "name": "stdout",
     "output_type": "stream",
     "text": [
      "aff3ct --sim-cde-type LDPC --chn-type BSC --enc-cw-size 102 --enc-info-bits 82 --enc-type LDPC_H --dec-h-path build/tmp_code.alist --dec-type BP_FLOODING --dec-implem AMS --dec-ite 10 --sim-noise-type EP --sim-noise-range '0.002,0.002,0.002,0.002,0.002,0.002,0.002,0.002,0.002,0.002,0.002,0.002,0.002,0.002,0.002,0.002,0.002,0.002,0.002,0.002,0.002,0.002,0.002,0.002,0.002,0.002,0.002,0.002,0.002,0.002,0.002,0.002,0.002,0.002,0.002,0.002,0.002,0.002,0.002,0.002,0.002,0.002,0.002,0.002,0.002,0.002,0.002,0.002,0.002,0.002,0.002' --mdm-type OOK --mnt-max-fe 10000 > build/tmp_out.txt\n"
     ]
    },
    {
     "name": "stderr",
     "output_type": "stream",
     "text": [
      "            0.0020 ||   384427 |    13816 |     8677 | 4.38e-04 | 2.26e-02 ||   63.001 | 00h00'00  *\r"
     ]
    },
    {
     "name": "stdout",
     "output_type": "stream",
     "text": [
      "aff3ct --sim-cde-type LDPC --chn-type BSC --enc-cw-size 102 --enc-info-bits 82 --enc-type LDPC_H --dec-h-path build/tmp_code.alist --dec-type BP_FLOODING --dec-implem AMS --dec-ite 10 --sim-noise-type EP --sim-noise-range '0.002,0.002,0.002,0.002,0.002,0.002,0.002,0.002,0.002,0.002,0.002,0.002,0.002,0.002,0.002,0.002,0.002,0.002,0.002,0.002,0.002,0.002,0.002,0.002,0.002,0.002,0.002,0.002,0.002,0.002,0.002,0.002,0.002,0.002,0.002,0.002,0.002,0.002,0.002,0.002,0.002,0.002,0.002,0.002,0.002,0.002,0.002,0.002,0.002,0.002,0.002' --mdm-type OOK --mnt-max-fe 10000 > build/tmp_out.txt\n"
     ]
    },
    {
     "name": "stderr",
     "output_type": "stream",
     "text": [
      "            0.0020 ||   345820 |    10859 |     6676 | 3.83e-04 | 1.93e-02 ||   56.665 | 00h00'00  *\r"
     ]
    },
    {
     "name": "stdout",
     "output_type": "stream",
     "text": [
      "aff3ct --sim-cde-type LDPC --chn-type BSC --enc-cw-size 102 --enc-info-bits 82 --enc-type LDPC_H --dec-h-path build/tmp_code.alist --dec-type BP_FLOODING --dec-implem AMS --dec-ite 10 --sim-noise-type EP --sim-noise-range '0.002,0.002,0.002,0.002,0.002,0.002,0.002,0.002,0.002,0.002,0.002,0.002,0.002,0.002,0.002,0.002,0.002,0.002,0.002,0.002,0.002,0.002,0.002,0.002,0.002,0.002,0.002,0.002,0.002,0.002,0.002,0.002,0.002,0.002,0.002,0.002,0.002,0.002,0.002,0.002,0.002,0.002,0.002,0.002,0.002,0.002,0.002,0.002,0.002,0.002,0.002' --mdm-type OOK --mnt-max-fe 10000 > build/tmp_out.txt\n"
     ]
    }
   ],
   "source": [
    "import os\n",
    "from stable_baselines3.common.env_checker import check_env\n",
    "import gym\n",
    "from gym import spaces\n",
    "import numpy as np\n",
    "import torch\n",
    "import utils\n",
    "from global_params import params\n",
    "from scoring import score_dataset\n",
    "from CPC import cpc_code, generate_random as gen_random_cpc\n",
    "\n",
    "\n",
    "def flatten(l):\n",
    "    return [item for sublist in l for item in sublist]\n",
    "\n",
    "\n",
    "\"\"\"\n",
    "Some quick thoughts:\n",
    "-- Should we start with a specific code each time or always a new random code?\n",
    "\"\"\"\n",
    "\n",
    "\n",
    "class SwapLDPCEnv(gym.Env):\n",
    "    \"\"\"Custom Environment that follows gym interface\"\"\"\n",
    "    metadata = {'render.modes': ['human']}\n",
    "\n",
    "    def __init__(self, target_succ_rate=0.99):\n",
    "        super(SwapLDPCEnv, self).__init__()\n",
    "\n",
    "        self.target_succ_rate = target_succ_rate\n",
    "        _, m_b, m_p, m_c = gen_random_cpc.random_cpc()\n",
    "        self.m_b = m_b\n",
    "        self.m_p = m_p\n",
    "        self.m_c = m_c\n",
    "        # self.target_succ_rate = target_succ_rate\n",
    "        # Each action corresponds to choosing to parity checks and the corresponding edges to swap\n",
    "        self.action_space = spaces.MultiDiscrete([\n",
    "            3,  # select which matrix to operate on, m_b, m_p, or m_c\n",
    "            # select which parity check to operate on\n",
    "            params['n_data_qubits'],\n",
    "            # higher than the check qubit index return a low reward\n",
    "            params['n_check_qubits'],\n",
    "            # select which data qubit to operate on. If m_c is selected, have choosing a data qubit\n",
    "        ])\n",
    "        self.last_fer = 0\n",
    "        self.n_steps = 0\n",
    "\n",
    "        self.n_qubits = n_qubits = params['n_data_qubits'] + params['n_check_qubits']\n",
    "        flattened_pc_size = 2 * \\\n",
    "            (n_qubits) * \\\n",
    "            params['n_check_qubits']\n",
    "\n",
    "\t\t# The first n qubits represent the noise distribution\n",
    "        # TODO: THIS ALLOWS US TO TRAIN FOR \"ADAPTIVE NOISE!!\" (i.e. lets decrease connections...)\n",
    "        # The quantum parity check matrix\n",
    "        self.observation_space = spaces.Box(low=0.0, high=1.0,\n",
    "                                            shape=(n_qubits + flattened_pc_size,), dtype=np.float32)\n",
    "        self.best_succ = 0\n",
    "\n",
    "    def step(self, action):\n",
    "        self.n_steps += 1\n",
    "        p_fails = np.ones(self.n_qubits) * np.random.uniform(low=params['constant_error_rate_lower'], high=params['constant_error_rate_upper'])\n",
    "        if action[0] == 0:\n",
    "            self.m_b[action[1], action[2]] = 1 - self.m_b[action[1], action[2]]\n",
    "        elif action[0] == 1:\n",
    "            self.m_p[action[1], action[2]] = 1 - self.m_p[action[1], action[2]]\n",
    "        elif action[0] == 2:\n",
    "            if action[1] >= params['n_check_qubits']:\n",
    "                old_code_pc = cpc_code.get_classical_code_cpc(self.m_b, self.m_p, self.m_c)\n",
    "                flattened = np.array(old_code_pc).astype(np.float32).flatten()\n",
    "                obs = np.concatenate((p_fails, flattened)).astype(np.float32)\n",
    "                return obs, -1, False, {}  # Return a very low reward\n",
    "            self.m_c[action[1], action[2]] = 1 - self.m_c[action[1], action[2]]\n",
    "        else:\n",
    "            raise \"Undefined selector action\"\n",
    "\n",
    "        code_pc = cpc_code.get_classical_code_cpc(self.m_b, self.m_p, self.m_c)\n",
    "        # TODO: p_fail??\n",
    "        succ_rate = score_dataset.run_decoder(code_pc, p_fails)\n",
    "\n",
    "        self.last_fer = 1 - succ_rate\n",
    "\n",
    "        reward = succ_rate\n",
    "        flattened = np.array(code_pc).astype(np.float32).flatten()\n",
    "        obs = np.concatenate((p_fails, flattened)).astype(np.float32)\n",
    "        return obs, reward, succ_rate >= self.target_succ_rate, {}\n",
    "\n",
    "    def reset(self):\n",
    "        p_fails = np.ones(self.n_qubits) * np.random.uniform(low=params['constant_error_rate_lower'], high=params['constant_error_rate_upper'])\n",
    "        _, m_b, m_p, m_c = gen_random_cpc.random_cpc()\n",
    "        self.m_b = m_b\n",
    "        self.m_p = m_p\n",
    "        self.m_c = m_c\n",
    "        code_pc = cpc_code.get_classical_code_cpc(self.m_b, self.m_p, self.m_c)\n",
    "        # reward, done, info can't be included\n",
    "        npd = np.array(code_pc).astype(np.float32)\n",
    "        return np.concatenate((p_fails, npd.flatten())).astype(np.float32)\n",
    "\n",
    "    def render(self, mode='console'):\n",
    "        pass\n",
    "\n",
    "    def close(self):\n",
    "        pass\n",
    "\n",
    "\n",
    "env = SwapLDPCEnv()\n",
    "check_env(env, warn=True)\n"
   ]
  },
  {
   "attachments": {},
   "cell_type": "markdown",
   "metadata": {},
   "source": [
    "## Begin Training"
   ]
  },
  {
   "cell_type": "code",
   "execution_count": 40,
   "metadata": {},
   "outputs": [
    {
     "name": "stdout",
     "output_type": "stream",
     "text": [
      "aff3ct --sim-cde-type LDPC --chn-type BSC --enc-cw-size 102 --enc-info-bits 82 --enc-type LDPC_H --dec-h-path build/tmp_code.alist --dec-type BP_FLOODING --dec-implem AMS --dec-ite 10 --sim-noise-type EP --sim-noise-range '0.002,0.002,0.002,0.002,0.002,0.002,0.002,0.002,0.002,0.002,0.002,0.002,0.002,0.002,0.002,0.002,0.002,0.002,0.002,0.002,0.002,0.002,0.002,0.002,0.002,0.002,0.002,0.002,0.002,0.002,0.002,0.002,0.002,0.002,0.002,0.002,0.002,0.002,0.002,0.002,0.002,0.002,0.002,0.002,0.002,0.002,0.002,0.002,0.002,0.002,0.002' --mdm-type OOK --mnt-max-fe 10000 > build/tmp_out.txt\n",
      "aff3ct --sim-cde-type LDPC --chn-type BSC --enc-cw-size 102 --enc-info-bits 82 --enc-type LDPC_H --dec-h-path build/tmp_code.alist --dec-type BP_FLOODING --dec-implem AMS --dec-ite 10 --sim-noise-type EP --sim-noise-range '0.002,0.002,0.002,0.002,0.002,0.002,0.002,0.002,0.002,0.002,0.002,0.002,0.002,0.002,0.002,0.002,0.002,0.002,0.002,0.002,0.002,0.002,0.002,0.002,0.002,0.002,0.002,0.002,0.002,0.002,0.002,0.002,0.002,0.002,0.002,0.002,0.002,0.002,0.002,0.002,0.002,0.002,0.002,0.002,0.002,0.002,0.002,0.002,0.002,0.002,0.002' --mdm-type OOK --mnt-max-fe 10000 > build/tmp_out.txt\n",
      "aff3ct --sim-cde-type LDPC --chn-type BSC --enc-cw-size 102 --enc-info-bits 82 --enc-type LDPC_H --dec-h-path build/tmp_code.alist --dec-type BP_FLOODING --dec-implem AMS --dec-ite 10 --sim-noise-type EP --sim-noise-range '0.002,0.002,0.002,0.002,0.002,0.002,0.002,0.002,0.002,0.002,0.002,0.002,0.002,0.002,0.002,0.002,0.002,0.002,0.002,0.002,0.002,0.002,0.002,0.002,0.002,0.002,0.002,0.002,0.002,0.002,0.002,0.002,0.002,0.002,0.002,0.002,0.002,0.002,0.002,0.002,0.002,0.002,0.002,0.002,0.002,0.002,0.002,0.002,0.002,0.002,0.002' --mdm-type OOK --mnt-max-fe 10000 > build/tmp_out.txt\n",
      "aff3ct --sim-cde-type LDPC --chn-type BSC --enc-cw-size 102 --enc-info-bits 82 --enc-type LDPC_H --dec-h-path build/tmp_code.alist --dec-type BP_FLOODING --dec-implem AMS --dec-ite 10 --sim-noise-type EP --sim-noise-range '0.002,0.002,0.002,0.002,0.002,0.002,0.002,0.002,0.002,0.002,0.002,0.002,0.002,0.002,0.002,0.002,0.002,0.002,0.002,0.002,0.002,0.002,0.002,0.002,0.002,0.002,0.002,0.002,0.002,0.002,0.002,0.002,0.002,0.002,0.002,0.002,0.002,0.002,0.002,0.002,0.002,0.002,0.002,0.002,0.002,0.002,0.002,0.002,0.002,0.002,0.002' --mdm-type OOK --mnt-max-fe 10000 > build/tmp_out.txt\n",
      "aff3ct --sim-cde-type LDPC --chn-type BSC --enc-cw-size 102 --enc-info-bits 82 --enc-type LDPC_H --dec-h-path build/tmp_code.alist --dec-type BP_FLOODING --dec-implem AMS --dec-ite 10 --sim-noise-type EP --sim-noise-range '0.002,0.002,0.002,0.002,0.002,0.002,0.002,0.002,0.002,0.002,0.002,0.002,0.002,0.002,0.002,0.002,0.002,0.002,0.002,0.002,0.002,0.002,0.002,0.002,0.002,0.002,0.002,0.002,0.002,0.002,0.002,0.002,0.002,0.002,0.002,0.002,0.002,0.002,0.002,0.002,0.002,0.002,0.002,0.002,0.002,0.002,0.002,0.002,0.002,0.002,0.002' --mdm-type OOK --mnt-max-fe 10000 > build/tmp_out.txt\n",
      "aff3ct --sim-cde-type LDPC --chn-type BSC --enc-cw-size 102 --enc-info-bits 82 --enc-type LDPC_H --dec-h-path build/tmp_code.alist --dec-type BP_FLOODING --dec-implem AMS --dec-ite 10 --sim-noise-type EP --sim-noise-range '0.002,0.002,0.002,0.002,0.002,0.002,0.002,0.002,0.002,0.002,0.002,0.002,0.002,0.002,0.002,0.002,0.002,0.002,0.002,0.002,0.002,0.002,0.002,0.002,0.002,0.002,0.002,0.002,0.002,0.002,0.002,0.002,0.002,0.002,0.002,0.002,0.002,0.002,0.002,0.002,0.002,0.002,0.002,0.002,0.002,0.002,0.002,0.002,0.002,0.002,0.002' --mdm-type OOK --mnt-max-fe 10000 > build/tmp_out.txt\n",
      "aff3ct --sim-cde-type LDPC --chn-type BSC --enc-cw-size 102 --enc-info-bits 82 --enc-type LDPC_H --dec-h-path build/tmp_code.alist --dec-type BP_FLOODING --dec-implem AMS --dec-ite 10 --sim-noise-type EP --sim-noise-range '0.002,0.002,0.002,0.002,0.002,0.002,0.002,0.002,0.002,0.002,0.002,0.002,0.002,0.002,0.002,0.002,0.002,0.002,0.002,0.002,0.002,0.002,0.002,0.002,0.002,0.002,0.002,0.002,0.002,0.002,0.002,0.002,0.002,0.002,0.002,0.002,0.002,0.002,0.002,0.002,0.002,0.002,0.002,0.002,0.002,0.002,0.002,0.002,0.002,0.002,0.002' --mdm-type OOK --mnt-max-fe 10000 > build/tmp_out.txt\n",
      "aff3ct --sim-cde-type LDPC --chn-type BSC --enc-cw-size 102 --enc-info-bits 82 --enc-type LDPC_H --dec-h-path build/tmp_code.alist --dec-type BP_FLOODING --dec-implem AMS --dec-ite 10 --sim-noise-type EP --sim-noise-range '0.002,0.002,0.002,0.002,0.002,0.002,0.002,0.002,0.002,0.002,0.002,0.002,0.002,0.002,0.002,0.002,0.002,0.002,0.002,0.002,0.002,0.002,0.002,0.002,0.002,0.002,0.002,0.002,0.002,0.002,0.002,0.002,0.002,0.002,0.002,0.002,0.002,0.002,0.002,0.002,0.002,0.002,0.002,0.002,0.002,0.002,0.002,0.002,0.002,0.002,0.002' --mdm-type OOK --mnt-max-fe 10000 > build/tmp_out.txt\n",
      "0\n"
     ]
    }
   ],
   "source": [
    "from stable_baselines3 import PPO, DQN\n",
    "from stable_baselines3.common.env_util import make_vec_env\n",
    "\n",
    "env = SwapLDPCEnv() \n",
    "model_type = \"PPO\"\n",
    "check_env(env, warn=True)\n",
    "print(env.best_succ)\n",
    "tf_logs = \"./logs/{model_type}-tensorboard\"\n",
    "\n",
    "# wrap it\n",
    "env = make_vec_env(lambda: env,   n_envs=1)\n",
    "loading_saved = False\n",
    "model = None\n",
    "if not loading_saved:\n",
    "\tmodel = PPO(\"MlpPolicy\", env=env, tensorboard_log=tf_logs)\n",
    "else:\n",
    "\t# TODO!\n",
    "\tmodel = PPO.load(utils.get_best_scoring_model_path_rl(), env=env, print_system_info=True)"
   ]
  },
  {
   "cell_type": "code",
   "execution_count": 41,
   "metadata": {},
   "outputs": [],
   "source": [
    "## Setup the callbacks\n",
    "from stable_baselines3 import SAC\n",
    "from stable_baselines3.common.callbacks import EvalCallback, CallbackList, BaseCallback\n",
    "import numpy as np\n",
    "import tensorflow as tf\n",
    "\n",
    "class TensorboardCallback(BaseCallback):\n",
    "    \"\"\"\n",
    "    Custom callback for plotting additional values in tensorboard.\n",
    "    \"\"\"\n",
    "    def __init__(self, verbose=0):\n",
    "        self.is_tb_set = False\n",
    "        super(TensorboardCallback, self).__init__(verbose)\n",
    "        writer = tf.summary.create_file_writer(tf_logs) ## TODO?\n",
    "        self.writer = writer\n",
    "\n",
    "    def _on_step(self) -> bool:\n",
    "        # Log additional tensor\n",
    "        # if not self.is_tb_set:\n",
    "        #     with self.model.graph.as_default():\n",
    "        #         tf.summary.scalar('value_target', tf.reduce_mean(self.model.value_target))\n",
    "        #         self.model.summary = tf.summary.merge_all()\n",
    "        #     self.is_tb_set = True\n",
    "\n",
    "        # Log scalar value (here a random variable)\n",
    "        env = self.model.get_env().envs[0]\n",
    "        fer = env.last_fer\n",
    "        with self.writer.as_default():\n",
    "            tf.summary.scalar('Frame Error Rate', fer, step=env.n_steps)\n",
    "            self.writer.flush()\n",
    "        return True\n",
    "\n",
    "\n",
    "# Use deterministic actions for evaluation\n",
    "eval_callback = EvalCallback(env, best_model_save_path=utils.get_best_scoring_model_path_rl(),\n",
    "                             log_path=f'./logs/rl-{model_type}-eval-logs', eval_freq=500,\n",
    "                             deterministic=True, render=False)\n",
    "\n",
    "callback_list = CallbackList([eval_callback, TensorboardCallback()])"
   ]
  },
  {
   "cell_type": "code",
   "execution_count": 42,
   "metadata": {},
   "outputs": [
    {
     "name": "stdout",
     "output_type": "stream",
     "text": [
      "aff3ct --sim-cde-type LDPC --chn-type BSC --enc-cw-size 102 --enc-info-bits 82 --enc-type LDPC_H --dec-h-path build/tmp_code.alist --dec-type BP_FLOODING --dec-implem AMS --dec-ite 10 --sim-noise-type EP --sim-noise-range '0.002,0.002,0.002,0.002,0.002,0.002,0.002,0.002,0.002,0.002,0.002,0.002,0.002,0.002,0.002,0.002,0.002,0.002,0.002,0.002,0.002,0.002,0.002,0.002,0.002,0.002,0.002,0.002,0.002,0.002,0.002,0.002,0.002,0.002,0.002,0.002,0.002,0.002,0.002,0.002,0.002,0.002,0.002,0.002,0.002,0.002,0.002,0.002,0.002,0.002,0.002' --mdm-type OOK --mnt-max-fe 10000 > build/tmp_out.txt\n",
      "aff3ct --sim-cde-type LDPC --chn-type BSC --enc-cw-size 102 --enc-info-bits 82 --enc-type LDPC_H --dec-h-path build/tmp_code.alist --dec-type BP_FLOODING --dec-implem AMS --dec-ite 10 --sim-noise-type EP --sim-noise-range '0.002,0.002,0.002,0.002,0.002,0.002,0.002,0.002,0.002,0.002,0.002,0.002,0.002,0.002,0.002,0.002,0.002,0.002,0.002,0.002,0.002,0.002,0.002,0.002,0.002,0.002,0.002,0.002,0.002,0.002,0.002,0.002,0.002,0.002,0.002,0.002,0.002,0.002,0.002,0.002,0.002,0.002,0.002,0.002,0.002,0.002,0.002,0.002,0.002,0.002,0.002' --mdm-type OOK --mnt-max-fe 10000 > build/tmp_out.txt\n",
      "aff3ct --sim-cde-type LDPC --chn-type BSC --enc-cw-size 102 --enc-info-bits 82 --enc-type LDPC_H --dec-h-path build/tmp_code.alist --dec-type BP_FLOODING --dec-implem AMS --dec-ite 10 --sim-noise-type EP --sim-noise-range '0.002,0.002,0.002,0.002,0.002,0.002,0.002,0.002,0.002,0.002,0.002,0.002,0.002,0.002,0.002,0.002,0.002,0.002,0.002,0.002,0.002,0.002,0.002,0.002,0.002,0.002,0.002,0.002,0.002,0.002,0.002,0.002,0.002,0.002,0.002,0.002,0.002,0.002,0.002,0.002,0.002,0.002,0.002,0.002,0.002,0.002,0.002,0.002,0.002,0.002,0.002' --mdm-type OOK --mnt-max-fe 10000 > build/tmp_out.txt\n",
      "aff3ct --sim-cde-type LDPC --chn-type BSC --enc-cw-size 102 --enc-info-bits 82 --enc-type LDPC_H --dec-h-path build/tmp_code.alist --dec-type BP_FLOODING --dec-implem AMS --dec-ite 10 --sim-noise-type EP --sim-noise-range '0.002,0.002,0.002,0.002,0.002,0.002,0.002,0.002,0.002,0.002,0.002,0.002,0.002,0.002,0.002,0.002,0.002,0.002,0.002,0.002,0.002,0.002,0.002,0.002,0.002,0.002,0.002,0.002,0.002,0.002,0.002,0.002,0.002,0.002,0.002,0.002,0.002,0.002,0.002,0.002,0.002,0.002,0.002,0.002,0.002,0.002,0.002,0.002,0.002,0.002,0.002' --mdm-type OOK --mnt-max-fe 10000 > build/tmp_out.txt\n"
     ]
    },
    {
     "name": "stderr",
     "output_type": "stream",
     "text": [
      "            0.0020 ||   439710 |    14651 |     9278 | 4.06e-04 | 2.11e-02 ||   72.063 | 00h00'00  *\r"
     ]
    },
    {
     "name": "stdout",
     "output_type": "stream",
     "text": [
      "aff3ct --sim-cde-type LDPC --chn-type BSC --enc-cw-size 102 --enc-info-bits 82 --enc-type LDPC_H --dec-h-path build/tmp_code.alist --dec-type BP_FLOODING --dec-implem AMS --dec-ite 10 --sim-noise-type EP --sim-noise-range '0.002,0.002,0.002,0.002,0.002,0.002,0.002,0.002,0.002,0.002,0.002,0.002,0.002,0.002,0.002,0.002,0.002,0.002,0.002,0.002,0.002,0.002,0.002,0.002,0.002,0.002,0.002,0.002,0.002,0.002,0.002,0.002,0.002,0.002,0.002,0.002,0.002,0.002,0.002,0.002,0.002,0.002,0.002,0.002,0.002,0.002,0.002,0.002,0.002,0.002,0.002' --mdm-type OOK --mnt-max-fe 10000 > build/tmp_out.txt\n"
     ]
    },
    {
     "name": "stderr",
     "output_type": "stream",
     "text": [
      "            0.0020 ||   428459 |    19289 |     9756 | 5.49e-04 | 2.28e-02 ||   70.217 | 00h00'00  *\r"
     ]
    },
    {
     "name": "stdout",
     "output_type": "stream",
     "text": [
      "aff3ct --sim-cde-type LDPC --chn-type BSC --enc-cw-size 102 --enc-info-bits 82 --enc-type LDPC_H --dec-h-path build/tmp_code.alist --dec-type BP_FLOODING --dec-implem AMS --dec-ite 10 --sim-noise-type EP --sim-noise-range '0.002,0.002,0.002,0.002,0.002,0.002,0.002,0.002,0.002,0.002,0.002,0.002,0.002,0.002,0.002,0.002,0.002,0.002,0.002,0.002,0.002,0.002,0.002,0.002,0.002,0.002,0.002,0.002,0.002,0.002,0.002,0.002,0.002,0.002,0.002,0.002,0.002,0.002,0.002,0.002,0.002,0.002,0.002,0.002,0.002,0.002,0.002,0.002,0.002,0.002,0.002' --mdm-type OOK --mnt-max-fe 10000 > build/tmp_out.txt\n"
     ]
    },
    {
     "name": "stderr",
     "output_type": "stream",
     "text": [
      "            0.0020 ||   413393 |    14599 |     9421 | 4.31e-04 | 2.28e-02 ||   67.753 | 00h00'00  *\r"
     ]
    },
    {
     "name": "stdout",
     "output_type": "stream",
     "text": [
      "aff3ct --sim-cde-type LDPC --chn-type BSC --enc-cw-size 102 --enc-info-bits 82 --enc-type LDPC_H --dec-h-path build/tmp_code.alist --dec-type BP_FLOODING --dec-implem AMS --dec-ite 10 --sim-noise-type EP --sim-noise-range '0.002,0.002,0.002,0.002,0.002,0.002,0.002,0.002,0.002,0.002,0.002,0.002,0.002,0.002,0.002,0.002,0.002,0.002,0.002,0.002,0.002,0.002,0.002,0.002,0.002,0.002,0.002,0.002,0.002,0.002,0.002,0.002,0.002,0.002,0.002,0.002,0.002,0.002,0.002,0.002,0.002,0.002,0.002,0.002,0.002,0.002,0.002,0.002,0.002,0.002,0.002' --mdm-type OOK --mnt-max-fe 10000 > build/tmp_out.txt\n",
      "aff3ct --sim-cde-type LDPC --chn-type BSC --enc-cw-size 102 --enc-info-bits 82 --enc-type LDPC_H --dec-h-path build/tmp_code.alist --dec-type BP_FLOODING --dec-implem AMS --dec-ite 10 --sim-noise-type EP --sim-noise-range '0.002,0.002,0.002,0.002,0.002,0.002,0.002,0.002,0.002,0.002,0.002,0.002,0.002,0.002,0.002,0.002,0.002,0.002,0.002,0.002,0.002,0.002,0.002,0.002,0.002,0.002,0.002,0.002,0.002,0.002,0.002,0.002,0.002,0.002,0.002,0.002,0.002,0.002,0.002,0.002,0.002,0.002,0.002,0.002,0.002,0.002,0.002,0.002,0.002,0.002,0.002' --mdm-type OOK --mnt-max-fe 10000 > build/tmp_out.txt\n"
     ]
    },
    {
     "name": "stderr",
     "output_type": "stream",
     "text": [
      "            0.0020 ||   421528 |    14191 |     8893 | 4.11e-04 | 2.11e-02 ||   69.069 | 00h00'00  *\r"
     ]
    },
    {
     "name": "stdout",
     "output_type": "stream",
     "text": [
      "aff3ct --sim-cde-type LDPC --chn-type BSC --enc-cw-size 102 --enc-info-bits 82 --enc-type LDPC_H --dec-h-path build/tmp_code.alist --dec-type BP_FLOODING --dec-implem AMS --dec-ite 10 --sim-noise-type EP --sim-noise-range '0.002,0.002,0.002,0.002,0.002,0.002,0.002,0.002,0.002,0.002,0.002,0.002,0.002,0.002,0.002,0.002,0.002,0.002,0.002,0.002,0.002,0.002,0.002,0.002,0.002,0.002,0.002,0.002,0.002,0.002,0.002,0.002,0.002,0.002,0.002,0.002,0.002,0.002,0.002,0.002,0.002,0.002,0.002,0.002,0.002,0.002,0.002,0.002,0.002,0.002,0.002' --mdm-type OOK --mnt-max-fe 10000 > build/tmp_out.txt\n"
     ]
    },
    {
     "name": "stderr",
     "output_type": "stream",
     "text": [
      "            0.0020 ||   354873 |    14697 |     9183 | 5.05e-04 | 2.59e-02 ||   58.155 | 00h00'00  *\r"
     ]
    },
    {
     "name": "stdout",
     "output_type": "stream",
     "text": [
      "aff3ct --sim-cde-type LDPC --chn-type BSC --enc-cw-size 102 --enc-info-bits 82 --enc-type LDPC_H --dec-h-path build/tmp_code.alist --dec-type BP_FLOODING --dec-implem AMS --dec-ite 10 --sim-noise-type EP --sim-noise-range '0.002,0.002,0.002,0.002,0.002,0.002,0.002,0.002,0.002,0.002,0.002,0.002,0.002,0.002,0.002,0.002,0.002,0.002,0.002,0.002,0.002,0.002,0.002,0.002,0.002,0.002,0.002,0.002,0.002,0.002,0.002,0.002,0.002,0.002,0.002,0.002,0.002,0.002,0.002,0.002,0.002,0.002,0.002,0.002,0.002,0.002,0.002,0.002,0.002,0.002,0.002' --mdm-type OOK --mnt-max-fe 10000 > build/tmp_out.txt\n"
     ]
    },
    {
     "name": "stderr",
     "output_type": "stream",
     "text": [
      "            0.0020 ||   396039 |    17848 |     9634 | 5.50e-04 | 2.43e-02 ||   64.908 | 00h00'00  *\r"
     ]
    },
    {
     "name": "stdout",
     "output_type": "stream",
     "text": [
      "aff3ct --sim-cde-type LDPC --chn-type BSC --enc-cw-size 102 --enc-info-bits 82 --enc-type LDPC_H --dec-h-path build/tmp_code.alist --dec-type BP_FLOODING --dec-implem AMS --dec-ite 10 --sim-noise-type EP --sim-noise-range '0.002,0.002,0.002,0.002,0.002,0.002,0.002,0.002,0.002,0.002,0.002,0.002,0.002,0.002,0.002,0.002,0.002,0.002,0.002,0.002,0.002,0.002,0.002,0.002,0.002,0.002,0.002,0.002,0.002,0.002,0.002,0.002,0.002,0.002,0.002,0.002,0.002,0.002,0.002,0.002,0.002,0.002,0.002,0.002,0.002,0.002,0.002,0.002,0.002,0.002,0.002' --mdm-type OOK --mnt-max-fe 10000 > build/tmp_out.txt\n",
      "aff3ct --sim-cde-type LDPC --chn-type BSC --enc-cw-size 102 --enc-info-bits 82 --enc-type LDPC_H --dec-h-path build/tmp_code.alist --dec-type BP_FLOODING --dec-implem AMS --dec-ite 10 --sim-noise-type EP --sim-noise-range '0.002,0.002,0.002,0.002,0.002,0.002,0.002,0.002,0.002,0.002,0.002,0.002,0.002,0.002,0.002,0.002,0.002,0.002,0.002,0.002,0.002,0.002,0.002,0.002,0.002,0.002,0.002,0.002,0.002,0.002,0.002,0.002,0.002,0.002,0.002,0.002,0.002,0.002,0.002,0.002,0.002,0.002,0.002,0.002,0.002,0.002,0.002,0.002,0.002,0.002,0.002' --mdm-type OOK --mnt-max-fe 10000 > build/tmp_out.txt\n",
      "aff3ct --sim-cde-type LDPC --chn-type BSC --enc-cw-size 102 --enc-info-bits 82 --enc-type LDPC_H --dec-h-path build/tmp_code.alist --dec-type BP_FLOODING --dec-implem AMS --dec-ite 10 --sim-noise-type EP --sim-noise-range '0.002,0.002,0.002,0.002,0.002,0.002,0.002,0.002,0.002,0.002,0.002,0.002,0.002,0.002,0.002,0.002,0.002,0.002,0.002,0.002,0.002,0.002,0.002,0.002,0.002,0.002,0.002,0.002,0.002,0.002,0.002,0.002,0.002,0.002,0.002,0.002,0.002,0.002,0.002,0.002,0.002,0.002,0.002,0.002,0.002,0.002,0.002,0.002,0.002,0.002,0.002' --mdm-type OOK --mnt-max-fe 10000 > build/tmp_out.txt\n",
      "aff3ct --sim-cde-type LDPC --chn-type BSC --enc-cw-size 102 --enc-info-bits 82 --enc-type LDPC_H --dec-h-path build/tmp_code.alist --dec-type BP_FLOODING --dec-implem AMS --dec-ite 10 --sim-noise-type EP --sim-noise-range '0.002,0.002,0.002,0.002,0.002,0.002,0.002,0.002,0.002,0.002,0.002,0.002,0.002,0.002,0.002,0.002,0.002,0.002,0.002,0.002,0.002,0.002,0.002,0.002,0.002,0.002,0.002,0.002,0.002,0.002,0.002,0.002,0.002,0.002,0.002,0.002,0.002,0.002,0.002,0.002,0.002,0.002,0.002,0.002,0.002,0.002,0.002,0.002,0.002,0.002,0.002' --mdm-type OOK --mnt-max-fe 10000 > build/tmp_out.txt\n"
     ]
    },
    {
     "name": "stderr",
     "output_type": "stream",
     "text": [
      "            0.0020 ||   399302 |    15436 |     9043 | 4.71e-04 | 2.26e-02 ||   65.413 | 00h00'00  *\r"
     ]
    },
    {
     "name": "stdout",
     "output_type": "stream",
     "text": [
      "aff3ct --sim-cde-type LDPC --chn-type BSC --enc-cw-size 102 --enc-info-bits 82 --enc-type LDPC_H --dec-h-path build/tmp_code.alist --dec-type BP_FLOODING --dec-implem AMS --dec-ite 10 --sim-noise-type EP --sim-noise-range '0.002,0.002,0.002,0.002,0.002,0.002,0.002,0.002,0.002,0.002,0.002,0.002,0.002,0.002,0.002,0.002,0.002,0.002,0.002,0.002,0.002,0.002,0.002,0.002,0.002,0.002,0.002,0.002,0.002,0.002,0.002,0.002,0.002,0.002,0.002,0.002,0.002,0.002,0.002,0.002,0.002,0.002,0.002,0.002,0.002,0.002,0.002,0.002,0.002,0.002,0.002' --mdm-type OOK --mnt-max-fe 10000 > build/tmp_out.txt\n"
     ]
    },
    {
     "name": "stderr",
     "output_type": "stream",
     "text": [
      "            0.0020 ||   384608 |    25123 |     8001 | 7.97e-04 | 2.08e-02 ||   63.026 | 00h00'00  *\r"
     ]
    },
    {
     "name": "stdout",
     "output_type": "stream",
     "text": [
      "aff3ct --sim-cde-type LDPC --chn-type BSC --enc-cw-size 102 --enc-info-bits 82 --enc-type LDPC_H --dec-h-path build/tmp_code.alist --dec-type BP_FLOODING --dec-implem AMS --dec-ite 10 --sim-noise-type EP --sim-noise-range '0.002,0.002,0.002,0.002,0.002,0.002,0.002,0.002,0.002,0.002,0.002,0.002,0.002,0.002,0.002,0.002,0.002,0.002,0.002,0.002,0.002,0.002,0.002,0.002,0.002,0.002,0.002,0.002,0.002,0.002,0.002,0.002,0.002,0.002,0.002,0.002,0.002,0.002,0.002,0.002,0.002,0.002,0.002,0.002,0.002,0.002,0.002,0.002,0.002,0.002,0.002' --mdm-type OOK --mnt-max-fe 10000 > build/tmp_out.txt\n"
     ]
    },
    {
     "name": "stderr",
     "output_type": "stream",
     "text": [
      "            0.0020 ||   407495 |    14815 |     9896 | 4.43e-04 | 2.43e-02 ||   66.785 | 00h00'00  *\r"
     ]
    },
    {
     "name": "stdout",
     "output_type": "stream",
     "text": [
      "aff3ct --sim-cde-type LDPC --chn-type BSC --enc-cw-size 102 --enc-info-bits 82 --enc-type LDPC_H --dec-h-path build/tmp_code.alist --dec-type BP_FLOODING --dec-implem AMS --dec-ite 10 --sim-noise-type EP --sim-noise-range '0.002,0.002,0.002,0.002,0.002,0.002,0.002,0.002,0.002,0.002,0.002,0.002,0.002,0.002,0.002,0.002,0.002,0.002,0.002,0.002,0.002,0.002,0.002,0.002,0.002,0.002,0.002,0.002,0.002,0.002,0.002,0.002,0.002,0.002,0.002,0.002,0.002,0.002,0.002,0.002,0.002,0.002,0.002,0.002,0.002,0.002,0.002,0.002,0.002,0.002,0.002' --mdm-type OOK --mnt-max-fe 10000 > build/tmp_out.txt\n"
     ]
    },
    {
     "name": "stderr",
     "output_type": "stream",
     "text": [
      "            0.0020 ||   392130 |    15115 |     8931 | 4.70e-04 | 2.28e-02 ||   64.268 | 00h00'00  *\r"
     ]
    },
    {
     "name": "stdout",
     "output_type": "stream",
     "text": [
      "aff3ct --sim-cde-type LDPC --chn-type BSC --enc-cw-size 102 --enc-info-bits 82 --enc-type LDPC_H --dec-h-path build/tmp_code.alist --dec-type BP_FLOODING --dec-implem AMS --dec-ite 10 --sim-noise-type EP --sim-noise-range '0.002,0.002,0.002,0.002,0.002,0.002,0.002,0.002,0.002,0.002,0.002,0.002,0.002,0.002,0.002,0.002,0.002,0.002,0.002,0.002,0.002,0.002,0.002,0.002,0.002,0.002,0.002,0.002,0.002,0.002,0.002,0.002,0.002,0.002,0.002,0.002,0.002,0.002,0.002,0.002,0.002,0.002,0.002,0.002,0.002,0.002,0.002,0.002,0.002,0.002,0.002' --mdm-type OOK --mnt-max-fe 10000 > build/tmp_out.txt\n"
     ]
    },
    {
     "name": "stderr",
     "output_type": "stream",
     "text": [
      "            0.0020 ||   397583 |    14065 |     8449 | 4.31e-04 | 2.13e-02 ||   65.156 | 00h00'00  *\r"
     ]
    },
    {
     "name": "stdout",
     "output_type": "stream",
     "text": [
      "aff3ct --sim-cde-type LDPC --chn-type BSC --enc-cw-size 102 --enc-info-bits 82 --enc-type LDPC_H --dec-h-path build/tmp_code.alist --dec-type BP_FLOODING --dec-implem AMS --dec-ite 10 --sim-noise-type EP --sim-noise-range '0.002,0.002,0.002,0.002,0.002,0.002,0.002,0.002,0.002,0.002,0.002,0.002,0.002,0.002,0.002,0.002,0.002,0.002,0.002,0.002,0.002,0.002,0.002,0.002,0.002,0.002,0.002,0.002,0.002,0.002,0.002,0.002,0.002,0.002,0.002,0.002,0.002,0.002,0.002,0.002,0.002,0.002,0.002,0.002,0.002,0.002,0.002,0.002,0.002,0.002,0.002' --mdm-type OOK --mnt-max-fe 10000 > build/tmp_out.txt\n"
     ]
    },
    {
     "name": "stderr",
     "output_type": "stream",
     "text": [
      "            0.0020 ||   291186 |    13806 |     6140 | 5.78e-04 | 2.11e-02 ||   47.713 | 00h00'00  *\r"
     ]
    },
    {
     "name": "stdout",
     "output_type": "stream",
     "text": [
      "aff3ct --sim-cde-type LDPC --chn-type BSC --enc-cw-size 102 --enc-info-bits 82 --enc-type LDPC_H --dec-h-path build/tmp_code.alist --dec-type BP_FLOODING --dec-implem AMS --dec-ite 10 --sim-noise-type EP --sim-noise-range '0.002,0.002,0.002,0.002,0.002,0.002,0.002,0.002,0.002,0.002,0.002,0.002,0.002,0.002,0.002,0.002,0.002,0.002,0.002,0.002,0.002,0.002,0.002,0.002,0.002,0.002,0.002,0.002,0.002,0.002,0.002,0.002,0.002,0.002,0.002,0.002,0.002,0.002,0.002,0.002,0.002,0.002,0.002,0.002,0.002,0.002,0.002,0.002,0.002,0.002,0.002' --mdm-type OOK --mnt-max-fe 10000 > build/tmp_out.txt\n"
     ]
    },
    {
     "name": "stderr",
     "output_type": "stream",
     "text": [
      "            0.0020 ||   285996 |    11671 |     6448 | 4.98e-04 | 2.25e-02 ||   46.856 | 00h00'00  *\r"
     ]
    },
    {
     "name": "stdout",
     "output_type": "stream",
     "text": [
      "aff3ct --sim-cde-type LDPC --chn-type BSC --enc-cw-size 102 --enc-info-bits 82 --enc-type LDPC_H --dec-h-path build/tmp_code.alist --dec-type BP_FLOODING --dec-implem AMS --dec-ite 10 --sim-noise-type EP --sim-noise-range '0.002,0.002,0.002,0.002,0.002,0.002,0.002,0.002,0.002,0.002,0.002,0.002,0.002,0.002,0.002,0.002,0.002,0.002,0.002,0.002,0.002,0.002,0.002,0.002,0.002,0.002,0.002,0.002,0.002,0.002,0.002,0.002,0.002,0.002,0.002,0.002,0.002,0.002,0.002,0.002,0.002,0.002,0.002,0.002,0.002,0.002,0.002,0.002,0.002,0.002,0.002' --mdm-type OOK --mnt-max-fe 10000 > build/tmp_out.txt\n"
     ]
    },
    {
     "name": "stderr",
     "output_type": "stream",
     "text": [
      "            0.0020 ||   270867 |    11154 |     5650 | 5.02e-04 | 2.09e-02 ||   44.385 | 00h00'00  *\r"
     ]
    },
    {
     "name": "stdout",
     "output_type": "stream",
     "text": [
      "aff3ct --sim-cde-type LDPC --chn-type BSC --enc-cw-size 102 --enc-info-bits 82 --enc-type LDPC_H --dec-h-path build/tmp_code.alist --dec-type BP_FLOODING --dec-implem AMS --dec-ite 10 --sim-noise-type EP --sim-noise-range '0.002,0.002,0.002,0.002,0.002,0.002,0.002,0.002,0.002,0.002,0.002,0.002,0.002,0.002,0.002,0.002,0.002,0.002,0.002,0.002,0.002,0.002,0.002,0.002,0.002,0.002,0.002,0.002,0.002,0.002,0.002,0.002,0.002,0.002,0.002,0.002,0.002,0.002,0.002,0.002,0.002,0.002,0.002,0.002,0.002,0.002,0.002,0.002,0.002,0.002,0.002' --mdm-type OOK --mnt-max-fe 10000 > build/tmp_out.txt\n"
     ]
    },
    {
     "name": "stderr",
     "output_type": "stream",
     "text": [
      "            0.0020 ||   324340 |    12008 |     7335 | 4.51e-04 | 2.26e-02 ||   53.151 | 00h00'00  *\r"
     ]
    },
    {
     "name": "stdout",
     "output_type": "stream",
     "text": [
      "aff3ct --sim-cde-type LDPC --chn-type BSC --enc-cw-size 102 --enc-info-bits 82 --enc-type LDPC_H --dec-h-path build/tmp_code.alist --dec-type BP_FLOODING --dec-implem AMS --dec-ite 10 --sim-noise-type EP --sim-noise-range '0.002,0.002,0.002,0.002,0.002,0.002,0.002,0.002,0.002,0.002,0.002,0.002,0.002,0.002,0.002,0.002,0.002,0.002,0.002,0.002,0.002,0.002,0.002,0.002,0.002,0.002,0.002,0.002,0.002,0.002,0.002,0.002,0.002,0.002,0.002,0.002,0.002,0.002,0.002,0.002,0.002,0.002,0.002,0.002,0.002,0.002,0.002,0.002,0.002,0.002,0.002' --mdm-type OOK --mnt-max-fe 10000 > build/tmp_out.txt\n"
     ]
    },
    {
     "name": "stderr",
     "output_type": "stream",
     "text": [
      "            0.0020 ||   343696 |    13829 |     7104 | 4.91e-04 | 2.07e-02 ||   56.324 | 00h00'00  *\r"
     ]
    },
    {
     "name": "stdout",
     "output_type": "stream",
     "text": [
      "aff3ct --sim-cde-type LDPC --chn-type BSC --enc-cw-size 102 --enc-info-bits 82 --enc-type LDPC_H --dec-h-path build/tmp_code.alist --dec-type BP_FLOODING --dec-implem AMS --dec-ite 10 --sim-noise-type EP --sim-noise-range '0.002,0.002,0.002,0.002,0.002,0.002,0.002,0.002,0.002,0.002,0.002,0.002,0.002,0.002,0.002,0.002,0.002,0.002,0.002,0.002,0.002,0.002,0.002,0.002,0.002,0.002,0.002,0.002,0.002,0.002,0.002,0.002,0.002,0.002,0.002,0.002,0.002,0.002,0.002,0.002,0.002,0.002,0.002,0.002,0.002,0.002,0.002,0.002,0.002,0.002,0.002' --mdm-type OOK --mnt-max-fe 10000 > build/tmp_out.txt\n"
     ]
    },
    {
     "name": "stderr",
     "output_type": "stream",
     "text": [
      "            0.0020 ||   364448 |    14546 |     7036 | 4.87e-04 | 1.93e-02 ||   59.721 | 00h00'00  *\r"
     ]
    },
    {
     "name": "stdout",
     "output_type": "stream",
     "text": [
      "aff3ct --sim-cde-type LDPC --chn-type BSC --enc-cw-size 102 --enc-info-bits 82 --enc-type LDPC_H --dec-h-path build/tmp_code.alist --dec-type BP_FLOODING --dec-implem AMS --dec-ite 10 --sim-noise-type EP --sim-noise-range '0.002,0.002,0.002,0.002,0.002,0.002,0.002,0.002,0.002,0.002,0.002,0.002,0.002,0.002,0.002,0.002,0.002,0.002,0.002,0.002,0.002,0.002,0.002,0.002,0.002,0.002,0.002,0.002,0.002,0.002,0.002,0.002,0.002,0.002,0.002,0.002,0.002,0.002,0.002,0.002,0.002,0.002,0.002,0.002,0.002,0.002,0.002,0.002,0.002,0.002,0.002' --mdm-type OOK --mnt-max-fe 10000 > build/tmp_out.txt\n"
     ]
    },
    {
     "name": "stderr",
     "output_type": "stream",
     "text": [
      "            0.0020 ||   378957 |    18325 |     7355 | 5.90e-04 | 1.94e-02 ||   61.209 | 00h00'00  *\r"
     ]
    },
    {
     "name": "stdout",
     "output_type": "stream",
     "text": [
      "aff3ct --sim-cde-type LDPC --chn-type BSC --enc-cw-size 102 --enc-info-bits 82 --enc-type LDPC_H --dec-h-path build/tmp_code.alist --dec-type BP_FLOODING --dec-implem AMS --dec-ite 10 --sim-noise-type EP --sim-noise-range '0.002,0.002,0.002,0.002,0.002,0.002,0.002,0.002,0.002,0.002,0.002,0.002,0.002,0.002,0.002,0.002,0.002,0.002,0.002,0.002,0.002,0.002,0.002,0.002,0.002,0.002,0.002,0.002,0.002,0.002,0.002,0.002,0.002,0.002,0.002,0.002,0.002,0.002,0.002,0.002,0.002,0.002,0.002,0.002,0.002,0.002,0.002,0.002,0.002,0.002,0.002' --mdm-type OOK --mnt-max-fe 10000 > build/tmp_out.txt\n"
     ]
    },
    {
     "name": "stderr",
     "output_type": "stream",
     "text": [
      "            0.0020 ||   377524 |    17701 |     8590 | 5.72e-04 | 2.28e-02 ||   61.871 | 00h00'00  *\r"
     ]
    },
    {
     "name": "stdout",
     "output_type": "stream",
     "text": [
      "aff3ct --sim-cde-type LDPC --chn-type BSC --enc-cw-size 102 --enc-info-bits 82 --enc-type LDPC_H --dec-h-path build/tmp_code.alist --dec-type BP_FLOODING --dec-implem AMS --dec-ite 10 --sim-noise-type EP --sim-noise-range '0.002,0.002,0.002,0.002,0.002,0.002,0.002,0.002,0.002,0.002,0.002,0.002,0.002,0.002,0.002,0.002,0.002,0.002,0.002,0.002,0.002,0.002,0.002,0.002,0.002,0.002,0.002,0.002,0.002,0.002,0.002,0.002,0.002,0.002,0.002,0.002,0.002,0.002,0.002,0.002,0.002,0.002,0.002,0.002,0.002,0.002,0.002,0.002,0.002,0.002,0.002' --mdm-type OOK --mnt-max-fe 10000 > build/tmp_out.txt\n"
     ]
    },
    {
     "name": "stderr",
     "output_type": "stream",
     "text": [
      "            0.0020 ||   362821 |    14949 |     8828 | 5.02e-04 | 2.43e-02 ||   59.460 | 00h00'00  *\r"
     ]
    },
    {
     "name": "stdout",
     "output_type": "stream",
     "text": [
      "aff3ct --sim-cde-type LDPC --chn-type BSC --enc-cw-size 102 --enc-info-bits 82 --enc-type LDPC_H --dec-h-path build/tmp_code.alist --dec-type BP_FLOODING --dec-implem AMS --dec-ite 10 --sim-noise-type EP --sim-noise-range '0.002,0.002,0.002,0.002,0.002,0.002,0.002,0.002,0.002,0.002,0.002,0.002,0.002,0.002,0.002,0.002,0.002,0.002,0.002,0.002,0.002,0.002,0.002,0.002,0.002,0.002,0.002,0.002,0.002,0.002,0.002,0.002,0.002,0.002,0.002,0.002,0.002,0.002,0.002,0.002,0.002,0.002,0.002,0.002,0.002,0.002,0.002,0.002,0.002,0.002,0.002' --mdm-type OOK --mnt-max-fe 10000 > build/tmp_out.txt\n"
     ]
    },
    {
     "name": "stderr",
     "output_type": "stream",
     "text": [
      "            0.0020 ||   378557 |    15355 |     8627 | 4.95e-04 | 2.28e-02 ||   62.039 | 00h00'00  *\r"
     ]
    },
    {
     "name": "stdout",
     "output_type": "stream",
     "text": [
      "aff3ct --sim-cde-type LDPC --chn-type BSC --enc-cw-size 102 --enc-info-bits 82 --enc-type LDPC_H --dec-h-path build/tmp_code.alist --dec-type BP_FLOODING --dec-implem AMS --dec-ite 10 --sim-noise-type EP --sim-noise-range '0.002,0.002,0.002,0.002,0.002,0.002,0.002,0.002,0.002,0.002,0.002,0.002,0.002,0.002,0.002,0.002,0.002,0.002,0.002,0.002,0.002,0.002,0.002,0.002,0.002,0.002,0.002,0.002,0.002,0.002,0.002,0.002,0.002,0.002,0.002,0.002,0.002,0.002,0.002,0.002,0.002,0.002,0.002,0.002,0.002,0.002,0.002,0.002,0.002,0.002,0.002' --mdm-type OOK --mnt-max-fe 10000 > build/tmp_out.txt\n"
     ]
    },
    {
     "name": "stderr",
     "output_type": "stream",
     "text": [
      "            0.0020 ||   403313 |    17791 |     9163 | 5.38e-04 | 2.27e-02 ||   66.098 | 00h00'00  *\r"
     ]
    },
    {
     "name": "stdout",
     "output_type": "stream",
     "text": [
      "aff3ct --sim-cde-type LDPC --chn-type BSC --enc-cw-size 102 --enc-info-bits 82 --enc-type LDPC_H --dec-h-path build/tmp_code.alist --dec-type BP_FLOODING --dec-implem AMS --dec-ite 10 --sim-noise-type EP --sim-noise-range '0.002,0.002,0.002,0.002,0.002,0.002,0.002,0.002,0.002,0.002,0.002,0.002,0.002,0.002,0.002,0.002,0.002,0.002,0.002,0.002,0.002,0.002,0.002,0.002,0.002,0.002,0.002,0.002,0.002,0.002,0.002,0.002,0.002,0.002,0.002,0.002,0.002,0.002,0.002,0.002,0.002,0.002,0.002,0.002,0.002,0.002,0.002,0.002,0.002,0.002,0.002' --mdm-type OOK --mnt-max-fe 10000 > build/tmp_out.txt\n"
     ]
    },
    {
     "name": "stderr",
     "output_type": "stream",
     "text": [
      "            0.0020 ||   411787 |    18115 |     9404 | 5.36e-04 | 2.28e-02 ||   67.488 | 00h00'00  *\r"
     ]
    },
    {
     "name": "stdout",
     "output_type": "stream",
     "text": [
      "aff3ct --sim-cde-type LDPC --chn-type BSC --enc-cw-size 102 --enc-info-bits 82 --enc-type LDPC_H --dec-h-path build/tmp_code.alist --dec-type BP_FLOODING --dec-implem AMS --dec-ite 10 --sim-noise-type EP --sim-noise-range '0.002,0.002,0.002,0.002,0.002,0.002,0.002,0.002,0.002,0.002,0.002,0.002,0.002,0.002,0.002,0.002,0.002,0.002,0.002,0.002,0.002,0.002,0.002,0.002,0.002,0.002,0.002,0.002,0.002,0.002,0.002,0.002,0.002,0.002,0.002,0.002,0.002,0.002,0.002,0.002,0.002,0.002,0.002,0.002,0.002,0.002,0.002,0.002,0.002,0.002,0.002' --mdm-type OOK --mnt-max-fe 10000 > build/tmp_out.txt\n"
     ]
    },
    {
     "name": "stderr",
     "output_type": "stream",
     "text": [
      "            0.0020 ||   398766 |    16218 |     8439 | 4.96e-04 | 2.12e-02 ||   65.349 | 00h00'00  *\r"
     ]
    },
    {
     "name": "stdout",
     "output_type": "stream",
     "text": [
      "aff3ct --sim-cde-type LDPC --chn-type BSC --enc-cw-size 102 --enc-info-bits 82 --enc-type LDPC_H --dec-h-path build/tmp_code.alist --dec-type BP_FLOODING --dec-implem AMS --dec-ite 10 --sim-noise-type EP --sim-noise-range '0.002,0.002,0.002,0.002,0.002,0.002,0.002,0.002,0.002,0.002,0.002,0.002,0.002,0.002,0.002,0.002,0.002,0.002,0.002,0.002,0.002,0.002,0.002,0.002,0.002,0.002,0.002,0.002,0.002,0.002,0.002,0.002,0.002,0.002,0.002,0.002,0.002,0.002,0.002,0.002,0.002,0.002,0.002,0.002,0.002,0.002,0.002,0.002,0.002,0.002,0.002' --mdm-type OOK --mnt-max-fe 10000 > build/tmp_out.txt\n"
     ]
    },
    {
     "name": "stderr",
     "output_type": "stream",
     "text": [
      "            0.0020 ||   392880 |    15895 |     9722 | 4.93e-04 | 2.47e-02 ||   64.389 | 00h00'00  *\r"
     ]
    },
    {
     "name": "stdout",
     "output_type": "stream",
     "text": [
      "aff3ct --sim-cde-type LDPC --chn-type BSC --enc-cw-size 102 --enc-info-bits 82 --enc-type LDPC_H --dec-h-path build/tmp_code.alist --dec-type BP_FLOODING --dec-implem AMS --dec-ite 10 --sim-noise-type EP --sim-noise-range '0.002,0.002,0.002,0.002,0.002,0.002,0.002,0.002,0.002,0.002,0.002,0.002,0.002,0.002,0.002,0.002,0.002,0.002,0.002,0.002,0.002,0.002,0.002,0.002,0.002,0.002,0.002,0.002,0.002,0.002,0.002,0.002,0.002,0.002,0.002,0.002,0.002,0.002,0.002,0.002,0.002,0.002,0.002,0.002,0.002,0.002,0.002,0.002,0.002,0.002,0.002' --mdm-type OOK --mnt-max-fe 10000 > build/tmp_out.txt\n",
      "aff3ct --sim-cde-type LDPC --chn-type BSC --enc-cw-size 102 --enc-info-bits 82 --enc-type LDPC_H --dec-h-path build/tmp_code.alist --dec-type BP_FLOODING --dec-implem AMS --dec-ite 10 --sim-noise-type EP --sim-noise-range '0.002,0.002,0.002,0.002,0.002,0.002,0.002,0.002,0.002,0.002,0.002,0.002,0.002,0.002,0.002,0.002,0.002,0.002,0.002,0.002,0.002,0.002,0.002,0.002,0.002,0.002,0.002,0.002,0.002,0.002,0.002,0.002,0.002,0.002,0.002,0.002,0.002,0.002,0.002,0.002,0.002,0.002,0.002,0.002,0.002,0.002,0.002,0.002,0.002,0.002,0.002' --mdm-type OOK --mnt-max-fe 10000 > build/tmp_out.txt\n"
     ]
    },
    {
     "name": "stderr",
     "output_type": "stream",
     "text": [
      "            0.0020 ||   402286 |    20695 |     9195 | 6.27e-04 | 2.29e-02 ||   65.928 | 00h00'00  *\r"
     ]
    },
    {
     "name": "stdout",
     "output_type": "stream",
     "text": [
      "aff3ct --sim-cde-type LDPC --chn-type BSC --enc-cw-size 102 --enc-info-bits 82 --enc-type LDPC_H --dec-h-path build/tmp_code.alist --dec-type BP_FLOODING --dec-implem AMS --dec-ite 10 --sim-noise-type EP --sim-noise-range '0.002,0.002,0.002,0.002,0.002,0.002,0.002,0.002,0.002,0.002,0.002,0.002,0.002,0.002,0.002,0.002,0.002,0.002,0.002,0.002,0.002,0.002,0.002,0.002,0.002,0.002,0.002,0.002,0.002,0.002,0.002,0.002,0.002,0.002,0.002,0.002,0.002,0.002,0.002,0.002,0.002,0.002,0.002,0.002,0.002,0.002,0.002,0.002,0.002,0.002,0.002' --mdm-type OOK --mnt-max-fe 10000 > build/tmp_out.txt\n"
     ]
    },
    {
     "name": "stderr",
     "output_type": "stream",
     "text": [
      "            0.0020 ||   401785 |    15244 |     9164 | 4.63e-04 | 2.28e-02 ||   65.850 | 00h00'00  *\r"
     ]
    },
    {
     "name": "stdout",
     "output_type": "stream",
     "text": [
      "aff3ct --sim-cde-type LDPC --chn-type BSC --enc-cw-size 102 --enc-info-bits 82 --enc-type LDPC_H --dec-h-path build/tmp_code.alist --dec-type BP_FLOODING --dec-implem AMS --dec-ite 10 --sim-noise-type EP --sim-noise-range '0.002,0.002,0.002,0.002,0.002,0.002,0.002,0.002,0.002,0.002,0.002,0.002,0.002,0.002,0.002,0.002,0.002,0.002,0.002,0.002,0.002,0.002,0.002,0.002,0.002,0.002,0.002,0.002,0.002,0.002,0.002,0.002,0.002,0.002,0.002,0.002,0.002,0.002,0.002,0.002,0.002,0.002,0.002,0.002,0.002,0.002,0.002,0.002,0.002,0.002,0.002' --mdm-type OOK --mnt-max-fe 10000 > build/tmp_out.txt\n"
     ]
    },
    {
     "name": "stderr",
     "output_type": "stream",
     "text": [
      "            0.0020 ||   386816 |    17620 |     9546 | 5.56e-04 | 2.47e-02 ||   63.383 | 00h00'00  *\r"
     ]
    },
    {
     "name": "stdout",
     "output_type": "stream",
     "text": [
      "aff3ct --sim-cde-type LDPC --chn-type BSC --enc-cw-size 102 --enc-info-bits 82 --enc-type LDPC_H --dec-h-path build/tmp_code.alist --dec-type BP_FLOODING --dec-implem AMS --dec-ite 10 --sim-noise-type EP --sim-noise-range '0.002,0.002,0.002,0.002,0.002,0.002,0.002,0.002,0.002,0.002,0.002,0.002,0.002,0.002,0.002,0.002,0.002,0.002,0.002,0.002,0.002,0.002,0.002,0.002,0.002,0.002,0.002,0.002,0.002,0.002,0.002,0.002,0.002,0.002,0.002,0.002,0.002,0.002,0.002,0.002,0.002,0.002,0.002,0.002,0.002,0.002,0.002,0.002,0.002,0.002,0.002' --mdm-type OOK --mnt-max-fe 10000 > build/tmp_out.txt\n",
      "aff3ct --sim-cde-type LDPC --chn-type BSC --enc-cw-size 102 --enc-info-bits 82 --enc-type LDPC_H --dec-h-path build/tmp_code.alist --dec-type BP_FLOODING --dec-implem AMS --dec-ite 10 --sim-noise-type EP --sim-noise-range '0.002,0.002,0.002,0.002,0.002,0.002,0.002,0.002,0.002,0.002,0.002,0.002,0.002,0.002,0.002,0.002,0.002,0.002,0.002,0.002,0.002,0.002,0.002,0.002,0.002,0.002,0.002,0.002,0.002,0.002,0.002,0.002,0.002,0.002,0.002,0.002,0.002,0.002,0.002,0.002,0.002,0.002,0.002,0.002,0.002,0.002,0.002,0.002,0.002,0.002,0.002' --mdm-type OOK --mnt-max-fe 10000 > build/tmp_out.txt\n"
     ]
    },
    {
     "name": "stderr",
     "output_type": "stream",
     "text": [
      "            0.0020 ||   399588 |    16726 |     9182 | 5.10e-04 | 2.30e-02 ||   65.493 | 00h00'00  *\r"
     ]
    },
    {
     "name": "stdout",
     "output_type": "stream",
     "text": [
      "aff3ct --sim-cde-type LDPC --chn-type BSC --enc-cw-size 102 --enc-info-bits 82 --enc-type LDPC_H --dec-h-path build/tmp_code.alist --dec-type BP_FLOODING --dec-implem AMS --dec-ite 10 --sim-noise-type EP --sim-noise-range '0.002,0.002,0.002,0.002,0.002,0.002,0.002,0.002,0.002,0.002,0.002,0.002,0.002,0.002,0.002,0.002,0.002,0.002,0.002,0.002,0.002,0.002,0.002,0.002,0.002,0.002,0.002,0.002,0.002,0.002,0.002,0.002,0.002,0.002,0.002,0.002,0.002,0.002,0.002,0.002,0.002,0.002,0.002,0.002,0.002,0.002,0.002,0.002,0.002,0.002,0.002' --mdm-type OOK --mnt-max-fe 10000 > build/tmp_out.txt\n"
     ]
    },
    {
     "name": "stderr",
     "output_type": "stream",
     "text": [
      "            0.0020 ||   404613 |    14835 |     8535 | 4.47e-04 | 2.11e-02 ||   66.315 | 00h00'00  *\r"
     ]
    },
    {
     "name": "stdout",
     "output_type": "stream",
     "text": [
      "aff3ct --sim-cde-type LDPC --chn-type BSC --enc-cw-size 102 --enc-info-bits 82 --enc-type LDPC_H --dec-h-path build/tmp_code.alist --dec-type BP_FLOODING --dec-implem AMS --dec-ite 10 --sim-noise-type EP --sim-noise-range '0.002,0.002,0.002,0.002,0.002,0.002,0.002,0.002,0.002,0.002,0.002,0.002,0.002,0.002,0.002,0.002,0.002,0.002,0.002,0.002,0.002,0.002,0.002,0.002,0.002,0.002,0.002,0.002,0.002,0.002,0.002,0.002,0.002,0.002,0.002,0.002,0.002,0.002,0.002,0.002,0.002,0.002,0.002,0.002,0.002,0.002,0.002,0.002,0.002,0.002,0.002' --mdm-type OOK --mnt-max-fe 10000 > build/tmp_out.txt\n"
     ]
    },
    {
     "name": "stderr",
     "output_type": "stream",
     "text": [
      "            0.0020 ||   384197 |    21436 |     9393 | 6.80e-04 | 2.44e-02 ||   62.945 | 00h00'00  *\r"
     ]
    },
    {
     "name": "stdout",
     "output_type": "stream",
     "text": [
      "aff3ct --sim-cde-type LDPC --chn-type BSC --enc-cw-size 102 --enc-info-bits 82 --enc-type LDPC_H --dec-h-path build/tmp_code.alist --dec-type BP_FLOODING --dec-implem AMS --dec-ite 10 --sim-noise-type EP --sim-noise-range '0.002,0.002,0.002,0.002,0.002,0.002,0.002,0.002,0.002,0.002,0.002,0.002,0.002,0.002,0.002,0.002,0.002,0.002,0.002,0.002,0.002,0.002,0.002,0.002,0.002,0.002,0.002,0.002,0.002,0.002,0.002,0.002,0.002,0.002,0.002,0.002,0.002,0.002,0.002,0.002,0.002,0.002,0.002,0.002,0.002,0.002,0.002,0.002,0.002,0.002,0.002' --mdm-type OOK --mnt-max-fe 10000 > build/tmp_out.txt\n",
      "aff3ct --sim-cde-type LDPC --chn-type BSC --enc-cw-size 102 --enc-info-bits 82 --enc-type LDPC_H --dec-h-path build/tmp_code.alist --dec-type BP_FLOODING --dec-implem AMS --dec-ite 10 --sim-noise-type EP --sim-noise-range '0.002,0.002,0.002,0.002,0.002,0.002,0.002,0.002,0.002,0.002,0.002,0.002,0.002,0.002,0.002,0.002,0.002,0.002,0.002,0.002,0.002,0.002,0.002,0.002,0.002,0.002,0.002,0.002,0.002,0.002,0.002,0.002,0.002,0.002,0.002,0.002,0.002,0.002,0.002,0.002,0.002,0.002,0.002,0.002,0.002,0.002,0.002,0.002,0.002,0.002,0.002' --mdm-type OOK --mnt-max-fe 10000 > build/tmp_out.txt\n",
      "aff3ct --sim-cde-type LDPC --chn-type BSC --enc-cw-size 102 --enc-info-bits 82 --enc-type LDPC_H --dec-h-path build/tmp_code.alist --dec-type BP_FLOODING --dec-implem AMS --dec-ite 10 --sim-noise-type EP --sim-noise-range '0.002,0.002,0.002,0.002,0.002,0.002,0.002,0.002,0.002,0.002,0.002,0.002,0.002,0.002,0.002,0.002,0.002,0.002,0.002,0.002,0.002,0.002,0.002,0.002,0.002,0.002,0.002,0.002,0.002,0.002,0.002,0.002,0.002,0.002,0.002,0.002,0.002,0.002,0.002,0.002,0.002,0.002,0.002,0.002,0.002,0.002,0.002,0.002,0.002,0.002,0.002' --mdm-type OOK --mnt-max-fe 10000 > build/tmp_out.txt\n",
      "aff3ct --sim-cde-type LDPC --chn-type BSC --enc-cw-size 102 --enc-info-bits 82 --enc-type LDPC_H --dec-h-path build/tmp_code.alist --dec-type BP_FLOODING --dec-implem AMS --dec-ite 10 --sim-noise-type EP --sim-noise-range '0.002,0.002,0.002,0.002,0.002,0.002,0.002,0.002,0.002,0.002,0.002,0.002,0.002,0.002,0.002,0.002,0.002,0.002,0.002,0.002,0.002,0.002,0.002,0.002,0.002,0.002,0.002,0.002,0.002,0.002,0.002,0.002,0.002,0.002,0.002,0.002,0.002,0.002,0.002,0.002,0.002,0.002,0.002,0.002,0.002,0.002,0.002,0.002,0.002,0.002,0.002' --mdm-type OOK --mnt-max-fe 10000 > build/tmp_out.txt\n"
     ]
    },
    {
     "name": "stderr",
     "output_type": "stream",
     "text": [
      "            0.0020 ||   403158 |    18568 |     9955 | 5.62e-04 | 2.47e-02 ||   66.069 | 00h00'00  *\r"
     ]
    },
    {
     "name": "stdout",
     "output_type": "stream",
     "text": [
      "aff3ct --sim-cde-type LDPC --chn-type BSC --enc-cw-size 102 --enc-info-bits 82 --enc-type LDPC_H --dec-h-path build/tmp_code.alist --dec-type BP_FLOODING --dec-implem AMS --dec-ite 10 --sim-noise-type EP --sim-noise-range '0.002,0.002,0.002,0.002,0.002,0.002,0.002,0.002,0.002,0.002,0.002,0.002,0.002,0.002,0.002,0.002,0.002,0.002,0.002,0.002,0.002,0.002,0.002,0.002,0.002,0.002,0.002,0.002,0.002,0.002,0.002,0.002,0.002,0.002,0.002,0.002,0.002,0.002,0.002,0.002,0.002,0.002,0.002,0.002,0.002,0.002,0.002,0.002,0.002,0.002,0.002' --mdm-type OOK --mnt-max-fe 10000 > build/tmp_out.txt\n"
     ]
    },
    {
     "name": "stderr",
     "output_type": "stream",
     "text": [
      "            0.0020 ||   406799 |    19321 |     9982 | 5.79e-04 | 2.45e-02 ||   66.631 | 00h00'00  *\r"
     ]
    },
    {
     "name": "stdout",
     "output_type": "stream",
     "text": [
      "aff3ct --sim-cde-type LDPC --chn-type BSC --enc-cw-size 102 --enc-info-bits 82 --enc-type LDPC_H --dec-h-path build/tmp_code.alist --dec-type BP_FLOODING --dec-implem AMS --dec-ite 10 --sim-noise-type EP --sim-noise-range '0.002,0.002,0.002,0.002,0.002,0.002,0.002,0.002,0.002,0.002,0.002,0.002,0.002,0.002,0.002,0.002,0.002,0.002,0.002,0.002,0.002,0.002,0.002,0.002,0.002,0.002,0.002,0.002,0.002,0.002,0.002,0.002,0.002,0.002,0.002,0.002,0.002,0.002,0.002,0.002,0.002,0.002,0.002,0.002,0.002,0.002,0.002,0.002,0.002,0.002,0.002' --mdm-type OOK --mnt-max-fe 10000 > build/tmp_out.txt\n",
      "aff3ct --sim-cde-type LDPC --chn-type BSC --enc-cw-size 102 --enc-info-bits 82 --enc-type LDPC_H --dec-h-path build/tmp_code.alist --dec-type BP_FLOODING --dec-implem AMS --dec-ite 10 --sim-noise-type EP --sim-noise-range '0.002,0.002,0.002,0.002,0.002,0.002,0.002,0.002,0.002,0.002,0.002,0.002,0.002,0.002,0.002,0.002,0.002,0.002,0.002,0.002,0.002,0.002,0.002,0.002,0.002,0.002,0.002,0.002,0.002,0.002,0.002,0.002,0.002,0.002,0.002,0.002,0.002,0.002,0.002,0.002,0.002,0.002,0.002,0.002,0.002,0.002,0.002,0.002,0.002,0.002,0.002' --mdm-type OOK --mnt-max-fe 10000 > build/tmp_out.txt\n",
      "aff3ct --sim-cde-type LDPC --chn-type BSC --enc-cw-size 102 --enc-info-bits 82 --enc-type LDPC_H --dec-h-path build/tmp_code.alist --dec-type BP_FLOODING --dec-implem AMS --dec-ite 10 --sim-noise-type EP --sim-noise-range '0.002,0.002,0.002,0.002,0.002,0.002,0.002,0.002,0.002,0.002,0.002,0.002,0.002,0.002,0.002,0.002,0.002,0.002,0.002,0.002,0.002,0.002,0.002,0.002,0.002,0.002,0.002,0.002,0.002,0.002,0.002,0.002,0.002,0.002,0.002,0.002,0.002,0.002,0.002,0.002,0.002,0.002,0.002,0.002,0.002,0.002,0.002,0.002,0.002,0.002,0.002' --mdm-type OOK --mnt-max-fe 10000 > build/tmp_out.txt\n",
      "aff3ct --sim-cde-type LDPC --chn-type BSC --enc-cw-size 102 --enc-info-bits 82 --enc-type LDPC_H --dec-h-path build/tmp_code.alist --dec-type BP_FLOODING --dec-implem AMS --dec-ite 10 --sim-noise-type EP --sim-noise-range '0.002,0.002,0.002,0.002,0.002,0.002,0.002,0.002,0.002,0.002,0.002,0.002,0.002,0.002,0.002,0.002,0.002,0.002,0.002,0.002,0.002,0.002,0.002,0.002,0.002,0.002,0.002,0.002,0.002,0.002,0.002,0.002,0.002,0.002,0.002,0.002,0.002,0.002,0.002,0.002,0.002,0.002,0.002,0.002,0.002,0.002,0.002,0.002,0.002,0.002,0.002' --mdm-type OOK --mnt-max-fe 10000 > build/tmp_out.txt\n",
      "aff3ct --sim-cde-type LDPC --chn-type BSC --enc-cw-size 102 --enc-info-bits 82 --enc-type LDPC_H --dec-h-path build/tmp_code.alist --dec-type BP_FLOODING --dec-implem AMS --dec-ite 10 --sim-noise-type EP --sim-noise-range '0.002,0.002,0.002,0.002,0.002,0.002,0.002,0.002,0.002,0.002,0.002,0.002,0.002,0.002,0.002,0.002,0.002,0.002,0.002,0.002,0.002,0.002,0.002,0.002,0.002,0.002,0.002,0.002,0.002,0.002,0.002,0.002,0.002,0.002,0.002,0.002,0.002,0.002,0.002,0.002,0.002,0.002,0.002,0.002,0.002,0.002,0.002,0.002,0.002,0.002,0.002' --mdm-type OOK --mnt-max-fe 10000 > build/tmp_out.txt\n",
      "aff3ct --sim-cde-type LDPC --chn-type BSC --enc-cw-size 102 --enc-info-bits 82 --enc-type LDPC_H --dec-h-path build/tmp_code.alist --dec-type BP_FLOODING --dec-implem AMS --dec-ite 10 --sim-noise-type EP --sim-noise-range '0.002,0.002,0.002,0.002,0.002,0.002,0.002,0.002,0.002,0.002,0.002,0.002,0.002,0.002,0.002,0.002,0.002,0.002,0.002,0.002,0.002,0.002,0.002,0.002,0.002,0.002,0.002,0.002,0.002,0.002,0.002,0.002,0.002,0.002,0.002,0.002,0.002,0.002,0.002,0.002,0.002,0.002,0.002,0.002,0.002,0.002,0.002,0.002,0.002,0.002,0.002' --mdm-type OOK --mnt-max-fe 10000 > build/tmp_out.txt\n",
      "aff3ct --sim-cde-type LDPC --chn-type BSC --enc-cw-size 102 --enc-info-bits 82 --enc-type LDPC_H --dec-h-path build/tmp_code.alist --dec-type BP_FLOODING --dec-implem AMS --dec-ite 10 --sim-noise-type EP --sim-noise-range '0.002,0.002,0.002,0.002,0.002,0.002,0.002,0.002,0.002,0.002,0.002,0.002,0.002,0.002,0.002,0.002,0.002,0.002,0.002,0.002,0.002,0.002,0.002,0.002,0.002,0.002,0.002,0.002,0.002,0.002,0.002,0.002,0.002,0.002,0.002,0.002,0.002,0.002,0.002,0.002,0.002,0.002,0.002,0.002,0.002,0.002,0.002,0.002,0.002,0.002,0.002' --mdm-type OOK --mnt-max-fe 10000 > build/tmp_out.txt\n",
      "aff3ct --sim-cde-type LDPC --chn-type BSC --enc-cw-size 102 --enc-info-bits 82 --enc-type LDPC_H --dec-h-path build/tmp_code.alist --dec-type BP_FLOODING --dec-implem AMS --dec-ite 10 --sim-noise-type EP --sim-noise-range '0.002,0.002,0.002,0.002,0.002,0.002,0.002,0.002,0.002,0.002,0.002,0.002,0.002,0.002,0.002,0.002,0.002,0.002,0.002,0.002,0.002,0.002,0.002,0.002,0.002,0.002,0.002,0.002,0.002,0.002,0.002,0.002,0.002,0.002,0.002,0.002,0.002,0.002,0.002,0.002,0.002,0.002,0.002,0.002,0.002,0.002,0.002,0.002,0.002,0.002,0.002' --mdm-type OOK --mnt-max-fe 10000 > build/tmp_out.txt\n"
     ]
    },
    {
     "name": "stderr",
     "output_type": "stream",
     "text": [
      "            0.0020 ||   398448 |    19347 |    10000 | 5.92e-04 | 2.51e-02 ||   65.171 | 00h00'00  *\r"
     ]
    },
    {
     "name": "stdout",
     "output_type": "stream",
     "text": [
      "aff3ct --sim-cde-type LDPC --chn-type BSC --enc-cw-size 102 --enc-info-bits 82 --enc-type LDPC_H --dec-h-path build/tmp_code.alist --dec-type BP_FLOODING --dec-implem AMS --dec-ite 10 --sim-noise-type EP --sim-noise-range '0.002,0.002,0.002,0.002,0.002,0.002,0.002,0.002,0.002,0.002,0.002,0.002,0.002,0.002,0.002,0.002,0.002,0.002,0.002,0.002,0.002,0.002,0.002,0.002,0.002,0.002,0.002,0.002,0.002,0.002,0.002,0.002,0.002,0.002,0.002,0.002,0.002,0.002,0.002,0.002,0.002,0.002,0.002,0.002,0.002,0.002,0.002,0.002,0.002,0.002,0.002' --mdm-type OOK --mnt-max-fe 10000 > build/tmp_out.txt\n"
     ]
    },
    {
     "name": "stderr",
     "output_type": "stream",
     "text": [
      "            0.0020 ||   392290 |    17604 |     9139 | 5.47e-04 | 2.33e-02 ||   64.294 | 00h00'00  *\r"
     ]
    },
    {
     "name": "stdout",
     "output_type": "stream",
     "text": [
      "aff3ct --sim-cde-type LDPC --chn-type BSC --enc-cw-size 102 --enc-info-bits 82 --enc-type LDPC_H --dec-h-path build/tmp_code.alist --dec-type BP_FLOODING --dec-implem AMS --dec-ite 10 --sim-noise-type EP --sim-noise-range '0.002,0.002,0.002,0.002,0.002,0.002,0.002,0.002,0.002,0.002,0.002,0.002,0.002,0.002,0.002,0.002,0.002,0.002,0.002,0.002,0.002,0.002,0.002,0.002,0.002,0.002,0.002,0.002,0.002,0.002,0.002,0.002,0.002,0.002,0.002,0.002,0.002,0.002,0.002,0.002,0.002,0.002,0.002,0.002,0.002,0.002,0.002,0.002,0.002,0.002,0.002' --mdm-type OOK --mnt-max-fe 10000 > build/tmp_out.txt\n"
     ]
    },
    {
     "name": "stderr",
     "output_type": "stream",
     "text": [
      "            0.0020 ||   387419 |    16719 |     8406 | 5.26e-04 | 2.17e-02 ||   63.494 | 00h00'00  *\r"
     ]
    },
    {
     "name": "stdout",
     "output_type": "stream",
     "text": [
      "aff3ct --sim-cde-type LDPC --chn-type BSC --enc-cw-size 102 --enc-info-bits 82 --enc-type LDPC_H --dec-h-path build/tmp_code.alist --dec-type BP_FLOODING --dec-implem AMS --dec-ite 10 --sim-noise-type EP --sim-noise-range '0.002,0.002,0.002,0.002,0.002,0.002,0.002,0.002,0.002,0.002,0.002,0.002,0.002,0.002,0.002,0.002,0.002,0.002,0.002,0.002,0.002,0.002,0.002,0.002,0.002,0.002,0.002,0.002,0.002,0.002,0.002,0.002,0.002,0.002,0.002,0.002,0.002,0.002,0.002,0.002,0.002,0.002,0.002,0.002,0.002,0.002,0.002,0.002,0.002,0.002,0.002' --mdm-type OOK --mnt-max-fe 10000 > build/tmp_out.txt\n"
     ]
    },
    {
     "name": "stderr",
     "output_type": "stream",
     "text": [
      "            0.0020 ||   392857 |    17410 |     9159 | 5.40e-04 | 2.33e-02 ||   64.385 | 00h00'00  *\r"
     ]
    },
    {
     "name": "stdout",
     "output_type": "stream",
     "text": [
      "aff3ct --sim-cde-type LDPC --chn-type BSC --enc-cw-size 102 --enc-info-bits 82 --enc-type LDPC_H --dec-h-path build/tmp_code.alist --dec-type BP_FLOODING --dec-implem AMS --dec-ite 10 --sim-noise-type EP --sim-noise-range '0.002,0.002,0.002,0.002,0.002,0.002,0.002,0.002,0.002,0.002,0.002,0.002,0.002,0.002,0.002,0.002,0.002,0.002,0.002,0.002,0.002,0.002,0.002,0.002,0.002,0.002,0.002,0.002,0.002,0.002,0.002,0.002,0.002,0.002,0.002,0.002,0.002,0.002,0.002,0.002,0.002,0.002,0.002,0.002,0.002,0.002,0.002,0.002,0.002,0.002,0.002' --mdm-type OOK --mnt-max-fe 10000 > build/tmp_out.txt\n"
     ]
    }
   ],
   "source": [
    "model.learn(total_timesteps=250_000, callback=callback_list)"
   ]
  }
 ],
 "metadata": {
  "kernelspec": {
   "display_name": "Python 3",
   "language": "python",
   "name": "python3"
  },
  "language_info": {
   "codemirror_mode": {
    "name": "ipython",
    "version": 3
   },
   "file_extension": ".py",
   "mimetype": "text/x-python",
   "name": "python",
   "nbconvert_exporter": "python",
   "pygments_lexer": "ipython3",
   "version": "3.10.6"
  },
  "orig_nbformat": 4,
  "vscode": {
   "interpreter": {
    "hash": "916dbcbb3f70747c44a77c7bcd40155683ae19c65e1c03b4aa3499c5328201f1"
   }
  }
 },
 "nbformat": 4,
 "nbformat_minor": 2
}
